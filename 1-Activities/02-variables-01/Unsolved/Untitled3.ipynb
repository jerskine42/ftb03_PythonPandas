{
 "cells": [
  {
   "cell_type": "code",
   "execution_count": null,
   "id": "16aa2747-e1f1-4dff-bae8-2772fc62f0e2",
   "metadata": {},
   "outputs": [],
   "source": [
    "######################\n",
    "# Create Character One\n",
    "######################\n",
    "# Make a variable called `c1_name` and have it equal a string of \"Mr. Farley\".\n",
    "# Make a variable called `c1_age` and have it equal to an integer of 65.\n",
    "# Make a variable called `c1_profession` and have it equal to \"Web Developer\".\n",
    "# Make a variable called `c1_salary` and have it equal to 100000.\n",
    "# Make a variable called `c1_species` and have it equal to \"cat\".\n",
    "# Make a variable called `c1_location` and have it equal to \"San Francisco, CA\".\n",
    "# Make a variable called `c1_monthly_rent` and have it equal to 2000.\n",
    "# Make a variable called `c1_monthly_expenses` and have it equal to 1500.\n",
    "# Make a variable called `c1_yearly_rent` and have it equal to `c1_monthly_rent` * 12.\n",
    "# Make a variable called `c1_yearly_expenses` and have it equal to 1500.00 * 12\n",
    "# Make a variable called `c1_savings` and have it equal to `c1_salary` - (`c1_yearly_rent` + `c1_yearly_expenses`)"
   ]
  },
  {
   "cell_type": "code",
   "execution_count": 2,
   "id": "06bb771a-eeee-4bd8-b0d9-16bacf4d7872",
   "metadata": {},
   "outputs": [],
   "source": [
    "c1_name = \"Mr. Farley\"\n",
    "c1_age = 65\n",
    "c1_profession = \"Web Developer\"\n",
    "c1_salary = 100000\n",
    "c1_species = \"cat\"\n",
    "c1_location = \"San Francisco, CA\"\n",
    "c1_monthly_rent = 2000\n",
    "c1_monthly_expenses = 1500\n",
    "c1_yearly_rent = c1_monthly_rent * 12\n",
    "c1_yearly_expenses = c1_monthly_expenses * 12\n",
    "c1_savings = c1_salary - (c1_yearly_rent + c1_yearly_expenses)"
   ]
  },
  {
   "cell_type": "code",
   "execution_count": null,
   "id": "a0d34a6a-9328-4b36-b03b-3e3eec4eed47",
   "metadata": {},
   "outputs": [],
   "source": []
  }
 ],
 "metadata": {
  "kernelspec": {
   "display_name": "Python 3 (ipykernel)",
   "language": "python",
   "name": "python3"
  },
  "language_info": {
   "codemirror_mode": {
    "name": "ipython",
    "version": 3
   },
   "file_extension": ".py",
   "mimetype": "text/x-python",
   "name": "python",
   "nbconvert_exporter": "python",
   "pygments_lexer": "ipython3",
   "version": "3.8.3"
  },
  "toc-showcode": true
 },
 "nbformat": 4,
 "nbformat_minor": 5
}
