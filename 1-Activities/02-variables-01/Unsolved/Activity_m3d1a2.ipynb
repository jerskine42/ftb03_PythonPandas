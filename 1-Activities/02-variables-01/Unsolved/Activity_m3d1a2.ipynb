{
 "cells": [
  {
   "cell_type": "code",
   "execution_count": null,
   "id": "f5d43c55-8a30-459d-ac8f-1f76da5b7f4d",
   "metadata": {},
   "outputs": [],
   "source": [
    "# Variables\n",
    "\n",
    "# This is a comment - any code commented out is not run -\n",
    "# meaning that any code or text commented out is ignored.\n",
    "\n",
    "\"\"\"\n",
    "this is a multi-line comment\n",
    "You can comment out many lines at once.\n",
    "For the most part you will see single line comments\n",
    "but it is good to see this.\n",
    "As in single line comments, any code contained within multi-line comments are not run -\n",
    "meaning that any code commented out is ignored.\n",
    "\"\"\"\n",
    "\n",
    "# Topic: Strings"
   ]
  },
  {
   "cell_type": "code",
   "execution_count": 2,
   "id": "19bae853-10c3-4901-860e-5dcfc8d7a695",
   "metadata": {},
   "outputs": [],
   "source": [
    "# Create a variable named `subject` with no value (None).\n",
    "subject = None\n"
   ]
  },
  {
   "cell_type": "code",
   "execution_count": 3,
   "id": "21629a6e-fe41-4b99-ad94-61f8c5083767",
   "metadata": {},
   "outputs": [],
   "source": [
    "# Assign a value of \"Programmers to the variable `subject`.\n",
    "subject = \"Programmers\"\n"
   ]
  },
  {
   "cell_type": "code",
   "execution_count": 4,
   "id": "2d67f0c1-3b8f-41c1-99a0-b9181cb038d2",
   "metadata": {},
   "outputs": [],
   "source": [
    "# Create a variable, `first_name`, and assign it a value of an empty string.\n",
    "first_name = ''\n"
   ]
  },
  {
   "cell_type": "code",
   "execution_count": 5,
   "id": "8661fb08-0a61-4894-bc3c-afd38b1ece0f",
   "metadata": {},
   "outputs": [],
   "source": [
    "# Assign a value of \"Ada\" to the variable `first_name`.\n",
    "first_name = \"Ada\"\n"
   ]
  },
  {
   "cell_type": "code",
   "execution_count": 9,
   "id": "5aad7501-dff9-405f-b1aa-6efb656c929c",
   "metadata": {},
   "outputs": [],
   "source": [
    "# Create a variable, `last_name`, and assign it a value of a string, \"Lovelace\".\n",
    "last_name = \"Lovelace\""
   ]
  },
  {
   "cell_type": "code",
   "execution_count": 11,
   "id": "9b79c72b-578d-4c12-aabc-4e483d503cf7",
   "metadata": {},
   "outputs": [
    {
     "name": "stdout",
     "output_type": "stream",
     "text": [
      "Ada Lovelace\n"
     ]
    }
   ],
   "source": [
    "# Create a variable, `full_name`, and assign it a value of the combination of `first_name` and `last_name` with a space.\n",
    "full_name = first_name + ' ' + last_name\n",
    "print(full_name)"
   ]
  },
  {
   "cell_type": "code",
   "execution_count": 12,
   "id": "8ba0b98a-1888-484c-ab3a-49ac04cb707c",
   "metadata": {},
   "outputs": [],
   "source": [
    "# Create a variable, `profession`, and assign it a value of a string, \"Computer Programmer\".\n",
    "profession = \"Computer Programmer\"\n"
   ]
  },
  {
   "cell_type": "code",
   "execution_count": 13,
   "id": "63fe209f-9318-4ea8-9109-2cae0b3d68fc",
   "metadata": {},
   "outputs": [],
   "source": [
    "# Create a variable, `known_for`, and assign it a value of a string, \"First Computer Programmer\".\n",
    "known_for = \"First Computer Programmer\"\n"
   ]
  },
  {
   "cell_type": "code",
   "execution_count": 14,
   "id": "888565b9-319c-4ba4-bd44-8a430ab6043b",
   "metadata": {},
   "outputs": [],
   "source": [
    "# Create a variable, `first_algorithm`, and assign it a value of a string, \"Analytical Engine\".\n",
    "first_algorithm = \"Analytical Engine\"\n"
   ]
  },
  {
   "cell_type": "code",
   "execution_count": 15,
   "id": "66e54545-a5d7-4013-a58d-81fd479e0aac",
   "metadata": {},
   "outputs": [],
   "source": [
    "# Create a variable, `city_location`, and assign it a value of a string, \"London\".\n",
    "city_location = \"London\"\n"
   ]
  },
  {
   "cell_type": "code",
   "execution_count": 16,
   "id": "59a53dab-4b63-4d10-8436-9ef19cf5a808",
   "metadata": {},
   "outputs": [],
   "source": [
    "# Create a variable, `country_location`, and assign it a value of a string, \"England\".\n",
    "country_location = \"England\"\n"
   ]
  },
  {
   "cell_type": "code",
   "execution_count": 17,
   "id": "28d05b59-2004-4404-8b8b-efacfd311000",
   "metadata": {},
   "outputs": [],
   "source": [
    "# Create a variable, `nationality`, and assign it a value of a string, \"British\".\n",
    "nationality = \"British\"\n"
   ]
  },
  {
   "cell_type": "code",
   "execution_count": 18,
   "id": "eebd89c4-95a0-42b5-b8bd-794b2c458a6a",
   "metadata": {},
   "outputs": [],
   "source": [
    "# Topic: Integers\n",
    "\n",
    "# Create a variable, `birth_year`, and assign it with an integer of 1815.\n",
    "\n",
    "\n",
    "# Create a variable, `death_year`, and assign it with an integer of 1852.\n",
    "\n",
    "\n",
    "# Create a variable, `age_at_passing`, and assign it a value of death_year minus birth_year.\n",
    "\n",
    "\n",
    "# Create a variable, `year_of_publish`, and assign it with an integer of 1842."
   ]
  },
  {
   "cell_type": "code",
   "execution_count": 20,
   "id": "032afb1f-9a90-4862-9564-8db1e8837b58",
   "metadata": {},
   "outputs": [
    {
     "name": "stdout",
     "output_type": "stream",
     "text": [
      "37\n"
     ]
    }
   ],
   "source": [
    "birth_year = 1815\n",
    "death_year = 1852\n",
    "age_at_passing = death_year - birth_year\n",
    "year_of_publish = 1842\n",
    "print(age_at_passing)"
   ]
  },
  {
   "cell_type": "code",
   "execution_count": 21,
   "id": "d7c98a0d-4198-45db-a4a4-ff7adae1b6a9",
   "metadata": {},
   "outputs": [],
   "source": [
    "#Topic: Print\n",
    "\n",
    "# Print: \"First Name: \" and `first_name`.\n",
    "\n",
    "\n",
    "# Print: \"Last Name: \" and `last_name`.\n",
    "\n",
    "\n",
    "# Print: \"Profession: \" and `profession`.\n",
    "\n",
    "\n",
    "# Print: \"BirthYear: \" and `birth_year`."
   ]
  },
  {
   "cell_type": "code",
   "execution_count": 23,
   "id": "561223a4-d671-4868-9b26-09107b8bf7a5",
   "metadata": {},
   "outputs": [
    {
     "name": "stdout",
     "output_type": "stream",
     "text": [
      "First Name: Ada\n",
      "Last Name: Lovelace\n",
      "Profession: Computer Programmer\n",
      "BirthYear: 1815\n"
     ]
    }
   ],
   "source": [
    "print(f\"First Name: {first_name}\")\n",
    "print(f\"Last Name: {last_name}\")\n",
    "print(f\"Profession: {profession}\")\n",
    "print(f\"BirthYear: {birth_year}\")"
   ]
  },
  {
   "cell_type": "code",
   "execution_count": null,
   "id": "ca1885b5-f801-4bbe-afae-42af68a16854",
   "metadata": {},
   "outputs": [],
   "source": [
    "#Topic: Concat Values\n",
    "\n",
    "# Create and print a variable, `statement_one`, by assigning it a value of a concatenated string:\n",
    "# \"Programmers: Ada Lovelace is a British Computer Programmer born in 1815.\"\n",
    "\n",
    "\n",
    "# Create and print a variable, `statement_two`, by assigning it a value of a concatenated string:\n",
    "# \"She is commonly referred to as the First Computer Programmer.\"\n",
    "\n",
    "\n",
    "# Create and print a variable, `statement_three`, by assigning it a value of a concatenated string:\n",
    "# \"In 1842 she published the first Algorithm, the Analytical Engine, at the age of 27.\"\n",
    "\n",
    "\n",
    "# Create and print a variable, `statement_four`, by assigning it a value of a concatenated string:\n",
    "# \"She was a British Citizen who lived in London, England until her passing in 1852 at the age of 37.\"\n"
   ]
  },
  {
   "cell_type": "code",
   "execution_count": 28,
   "id": "6a194b6e-0b1f-43f3-a851-33696eccbdcc",
   "metadata": {},
   "outputs": [
    {
     "name": "stdout",
     "output_type": "stream",
     "text": [
      "Programmers: Ada Lovelace is a British Computer Programmer born in 1815.\n",
      "Programmers: Ada Lovelace is a British Computer Programmer born in 1815.\n",
      "In 1842 she published the first Algorithm, the Analytical Engine, at the age of 27.\n",
      "She was a British Citizen who lived in London, England until her passing in 1852 at the age of 37.\n"
     ]
    }
   ],
   "source": [
    "statement_one = \"Programmers: \" + full_name + \" is a \" + nationality + \" \" + profession + \" born in \" + str(1815) + \".\"\n",
    "print(statement_one)\n",
    "statement_two = \"She is commonly referred to as the \" + known_for +\".\"\n",
    "print(statement_one)\n",
    "statement_three = \"In 1842 she published the first Algorithm, the \" + first_algorithm + \", at the age of \" + str((year_of_publish - birth_year)) + \".\"\n",
    "print(statement_three)\n",
    "statement_four = \"She was a \" + nationality + \" Citizen who lived in \" + city_location + \", \"  + country_location + \" until her passing in \" + str(death_year) + \" at the age of \" + str(age_at_passing) + \".\"\n",
    "print(statement_four)"
   ]
  },
  {
   "cell_type": "code",
   "execution_count": null,
   "id": "6789ed9d-c1ad-49b7-b615-8c4648e4d2e6",
   "metadata": {},
   "outputs": [],
   "source": []
  }
 ],
 "metadata": {
  "kernelspec": {
   "display_name": "Python 3 (ipykernel)",
   "language": "python",
   "name": "python3"
  },
  "language_info": {
   "codemirror_mode": {
    "name": "ipython",
    "version": 3
   },
   "file_extension": ".py",
   "mimetype": "text/x-python",
   "name": "python",
   "nbconvert_exporter": "python",
   "pygments_lexer": "ipython3",
   "version": "3.8.3"
  }
 },
 "nbformat": 4,
 "nbformat_minor": 5
}
