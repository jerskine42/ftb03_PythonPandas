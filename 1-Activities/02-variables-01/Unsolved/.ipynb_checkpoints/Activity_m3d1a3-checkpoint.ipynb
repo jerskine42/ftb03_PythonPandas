{
 "cells": [
  {
   "cell_type": "code",
   "execution_count": null,
   "id": "eff1196b-3833-42cd-8179-7cd759c22cd6",
   "metadata": {},
   "outputs": [],
   "source": [
    "# Create a list called 'farm' with the elements \"pig\", \"cow\", \"chicken\", \"dog\", \"horse\", \"sheep\".\n",
    "\n",
    "\n",
    "# Write an if statement that prints the string \"RWAR!\" if the first element of farm is NOT \"Godzilla\".\n",
    "\n",
    "# Write an else if statement that prints the string \"SCREECH!\" if the last element of farm is \"Mothra\".\n",
    "\n",
    "# Else, print the string \"This animal is neither Godzilla nor Mothra!\"."
   ]
  },
  {
   "cell_type": "code",
   "execution_count": 1,
   "id": "86262706-672d-4d7b-a652-16a8fe00671a",
   "metadata": {},
   "outputs": [],
   "source": [
    "farm = [\"pig\", \"cow\", \"chicken\", \"dog\", \"horse\", \"sheep\"]"
   ]
  },
  {
   "cell_type": "code",
   "execution_count": 7,
   "id": "913beb64-2583-4839-a455-1564b448b2ea",
   "metadata": {},
   "outputs": [
    {
     "name": "stdout",
     "output_type": "stream",
     "text": [
      "pig\n",
      "sheep\n",
      "RAWR!\n"
     ]
    }
   ],
   "source": [
    "print(farm[0])\n",
    "print(farm[len(farm)-1])\n",
    "\n",
    "if farm[0] != \"Godzilla\":\n",
    "    print(\"RAWR!\")\n",
    "elif farm[len(farm)-1] == \"Mothra\":\n",
    "    print(\"SCREECH!\")\n",
    "else:\n",
    "    print(\"This animal is neither Godzilla nor Mothra!\")"
   ]
  },
  {
   "cell_type": "code",
   "execution_count": null,
   "id": "a94e1371-48dd-4825-8faa-9eaa64eacb55",
   "metadata": {},
   "outputs": [],
   "source": [
    "# Declare a variable named 'dog' with a string of \"Spot\".\n",
    "\n",
    "# Declare 3 variables `cat`, `city`, `car` without assigning them values.\n",
    "\n",
    "\n",
    "# Assign the string \"Farley\" to `cat`.\n",
    "\n",
    "\n",
    "# Assign the string \"San Francisco\" to `city`.\n",
    "\n",
    "\n",
    "# Assign the string \"Prius\" to `car`.\n",
    "\n",
    "\n",
    "# Using string concatenation, print out the sentence \"See Spot run!\".\n",
    "\n",
    "\n",
    "# Using string concatenation, print out the sentence \"I drive Farley around San Francisco in my Prius\".\n",
    "\n"
   ]
  },
  {
   "cell_type": "code",
   "execution_count": 11,
   "id": "fda17dcd-1e4f-4d22-ba1c-c05992204086",
   "metadata": {},
   "outputs": [
    {
     "name": "stdout",
     "output_type": "stream",
     "text": [
      "See Spot run!\n",
      "I drive Farley around San Franciscoin my Prius\n"
     ]
    }
   ],
   "source": [
    "dog = \"Spot\"\n",
    "cat = None\n",
    "city = None\n",
    "car = None\n",
    "cat = \"Farley\"\n",
    "city = \"San Francisco\"\n",
    "car = \"Prius\"\n",
    "\n",
    "print(f\"See \" + dog + \" run!\")\n",
    "print(\"I drive \" + cat + \" around \" + city +  \"in my \" + car)"
   ]
  },
  {
   "cell_type": "code",
   "execution_count": null,
   "id": "1b1c9367-79ba-4f8c-b787-45b05c320cd4",
   "metadata": {},
   "outputs": [],
   "source": [
    "# Declare a variable budget and assign it a value of 5000.\n",
    "\n",
    "\n",
    "# Declare a variable rent_cost and assign it a value of 1500.\n",
    "\n",
    "\n",
    "# Declare a variable utilities_cost and assign it a value of 150.\n",
    "\n",
    "\n",
    "# Declare a variable food_cost and assign it a value of 250.\n",
    "\n",
    "\n",
    "# Declare a variable transportation_cost and assign it a value of 350.\n",
    "\n",
    "\n",
    "# Declare a variable computer_cost and assign it a value of 2000.\n",
    "\n",
    "\n",
    "# Declare a variable called total_cost that takes the sum of all costs above (excluding budget)."
   ]
  },
  {
   "cell_type": "code",
   "execution_count": 15,
   "id": "8f656217-7b49-4a63-83ac-606b941774af",
   "metadata": {},
   "outputs": [],
   "source": [
    "budget = 5000\n",
    "rent_cost = 1500\n",
    "utilities_cost = 150 \n",
    "food_cost = 250\n",
    "transportation_cost = 350 \n",
    "computer_cost = 2000\n",
    "total_cost = rent_cost + utilities_cost + transportation_cost + food_cost + computer_cost"
   ]
  },
  {
   "cell_type": "code",
   "execution_count": 16,
   "id": "d4406a16-3948-438f-8e1e-58185cdb6e9e",
   "metadata": {},
   "outputs": [],
   "source": [
    "# Write an if statement that checks whether the sum of all our costs is within the budget.\n",
    "# If so, print \"You're total cost is \" concatentated with the `total_cost` variable.\n",
    "# Else, print \"You're over budget by \" concatenated with the difference between `budget` and `total_cost`."
   ]
  },
  {
   "cell_type": "code",
   "execution_count": 17,
   "id": "852f8a8d-86d4-4fc6-8bcb-b073ab09d53a",
   "metadata": {},
   "outputs": [
    {
     "name": "stdout",
     "output_type": "stream",
     "text": [
      "You're over budget by 2250\n"
     ]
    }
   ],
   "source": [
    "if total_cost <= budget:\n",
    "    print (f\"You're total cost is {total_cost}\")\n",
    "else:\n",
    "    print (f\"You're over budget by {total_cost - budget}\")           "
   ]
  },
  {
   "cell_type": "code",
   "execution_count": null,
   "id": "2826c320-acde-4cc9-96c2-cc21f5f996f0",
   "metadata": {},
   "outputs": [],
   "source": [
    "# Write an if statement that checks whether the rent_cost is larger than the sum of the `utilities_cost`, `food_cost`,\n",
    "# and `transportation_cost`. If so, print a string that says \"The rent is too damn high!\".\n",
    "# Else, print a string that says \"Ahhh just right!\"\n"
   ]
  },
  {
   "cell_type": "code",
   "execution_count": 18,
   "id": "6f281c65-eb4c-4f1c-80eb-a1ff085fea32",
   "metadata": {},
   "outputs": [
    {
     "name": "stdout",
     "output_type": "stream",
     "text": [
      "The rent is too damn high!\n"
     ]
    }
   ],
   "source": [
    "if rent_cost > utilities_cost + food_cost + transportation_cost:\n",
    "    print (f\"The rent is too damn high!\")\n",
    "else:\n",
    "    print (f\"Ahhh just right!\")           "
   ]
  },
  {
   "cell_type": "code",
   "execution_count": null,
   "id": "48668b69-914c-46f0-8753-68db7a177a1b",
   "metadata": {},
   "outputs": [],
   "source": []
  }
 ],
 "metadata": {
  "kernelspec": {
   "display_name": "Python 3 (ipykernel)",
   "language": "python",
   "name": "python3"
  },
  "language_info": {
   "codemirror_mode": {
    "name": "ipython",
    "version": 3
   },
   "file_extension": ".py",
   "mimetype": "text/x-python",
   "name": "python",
   "nbconvert_exporter": "python",
   "pygments_lexer": "ipython3",
   "version": "3.8.3"
  }
 },
 "nbformat": 4,
 "nbformat_minor": 5
}
