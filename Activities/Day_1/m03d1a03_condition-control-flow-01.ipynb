{
 "cells": [
  {
   "cell_type": "code",
   "execution_count": 1,
   "id": "404f817e-858c-4ae6-8a1f-07b13f444b1a",
   "metadata": {},
   "outputs": [
    {
     "name": "stdout",
     "output_type": "stream",
     "text": [
      "pig\n",
      "sheep\n",
      "RWAR!\n"
     ]
    }
   ],
   "source": [
    "# Create a list called 'farm' with the elements \"pig\", \"cow\", \"chicken\", \"dog\", \"horse\", \"sheep\".\n",
    "farm = [\"pig\", \"cow\", \"chicken\", \"dog\", \"horse\", \"sheep\"]\n",
    "print(farm[0])\n",
    "print(farm[-1])\n",
    "\n",
    "# Write an if statement that prints the string \"RWAR!\" if the first element of farm is NOT \"Godzilla\".\n",
    "if farm[0] != \"Godzilla\":\n",
    "    print(\"RWAR!\")\n",
    "\n",
    "# Write an else if statement that prints the string \"SCREECH!\" if the last element of farm is \"Mothra\".\n",
    "elif farm[-1] == \"Mothra\":\n",
    "    print(\"SCREECH!\")\n",
    "\n",
    "# Else, print the string \"This animal is neither Godzilla nor Mothra!\".\n",
    "else:\n",
    "    print(\"This animal is neither Godzilla nor Mothra!\")\n",
    "\n",
    "\n",
    "\n"
   ]
  },
  {
   "cell_type": "code",
   "execution_count": 2,
   "id": "6baa604a-4298-447a-b1b7-0363c11b2b84",
   "metadata": {},
   "outputs": [
    {
     "name": "stdout",
     "output_type": "stream",
     "text": [
      "See Spot run!\n",
      "I drive Farley around San Francisco in my Prius\n"
     ]
    }
   ],
   "source": [
    "# Declare a variable named 'dog' with a string of \"Spot\".\n",
    "dog = \"Spot\"\n",
    "\n",
    "# Declare 3 variables `cat`, `city`, `car` without assigning them values.\n",
    "cat = None\n",
    "city = None\n",
    "car = None\n",
    "\n",
    "# Assign the string \"Farley\" to `cat`.\n",
    "cat = \"Farley\"\n",
    "\n",
    "# Assign the string \"San Francisco\" to `city`.\n",
    "city = \"San Francisco\"\n",
    "\n",
    "# Assign the string \"Prius\" to `car`.\n",
    "car = \"Prius\"\n",
    "\n",
    "# Using string concatenation, print out the sentence \"See Spot run!\".\n",
    "print(\"See \" + dog + \" run!\")\n",
    "\n",
    "# Using string concatenation, print out the sentence \"I drive Farley around San Francisco in my Prius\".\n",
    "print(\"I drive \" + cat + \" around \" + city + \" in my \"+ car)\n"
   ]
  },
  {
   "cell_type": "code",
   "execution_count": 3,
   "id": "b0139911-ec64-4f2d-bd25-9e4a0b26d0b6",
   "metadata": {},
   "outputs": [],
   "source": [
    "# Declare a variable budget and assign it a value of 5000.\n",
    "budget = 5000\n",
    "\n",
    "# Declare a variable rent_cost and assign it a value of 1500.\n",
    "rent_cost = 1500\n",
    "\n",
    "# Declare a variable utilities_cost and assign it a value of 150.\n",
    "utilities_cost = 150\n",
    "\n",
    "# Declare a variable food_cost and assign it a value of 250.\n",
    "food_cost = 250\n",
    "\n",
    "# Declare a variable transportation_cost and assign it a value of 350.\n",
    "transportation_cost = 350\n",
    "\n",
    "# Declare a variable computer_cost and assign it a value of 2000.\n",
    "computer_cost = 2000\n",
    "\n",
    "# Declare a variable called total_cost that takes the sum of all costs above (excluding budget).\n",
    "total_cost = rent_cost + utilities_cost + food_cost + transportation_cost + computer_cost\n"
   ]
  },
  {
   "cell_type": "code",
   "execution_count": 4,
   "id": "59d5e04c-ebba-4d82-97c2-6812f4e22966",
   "metadata": {},
   "outputs": [
    {
     "name": "stdout",
     "output_type": "stream",
     "text": [
      "You're total cost is 4250\n"
     ]
    }
   ],
   "source": [
    "# Write an if statement that checks whether the sum of all our costs is within the budget.\n",
    "# If so, print \"You're total cost is \" concatentated with the `total_cost` variable.\n",
    "# Else, print \"You're over budget by \" concatenated with the difference between `budget` and `total_cost`.\n",
    "if total_cost <= budget:\n",
    "    print(\"You're total cost is \" + str(total_cost))\n",
    "else:\n",
    "    print (\"You're over budget by \" + str(total_cost - budget))"
   ]
  },
  {
   "cell_type": "code",
   "execution_count": 5,
   "id": "bd027e88-39e4-4cb6-9b11-bce9e2c59aa7",
   "metadata": {},
   "outputs": [
    {
     "name": "stdout",
     "output_type": "stream",
     "text": [
      "The rent is too damn high!\n"
     ]
    }
   ],
   "source": [
    "# Write an if statement that checks whether the rent_cost is larger than the sum of the `utilities_cost`, `food_cost`,\n",
    "# and `transportation_cost`. If so, print a string that says \"The rent is too damn high!\".\n",
    "# Else, print a string that says \"Ahhh just right!\"\n",
    "if rent_cost > utilities_cost + food_cost + transportation_cost:\n",
    "    print(\"The rent is too damn high!\")\n",
    "else:\n",
    "    print(\"Ahhh just right!\")\n"
   ]
  },
  {
   "cell_type": "code",
   "execution_count": null,
   "id": "f61af1b2-8986-4385-9345-a8b139995e3f",
   "metadata": {},
   "outputs": [],
   "source": []
  }
 ],
 "metadata": {
  "kernelspec": {
   "display_name": "Python 3 (ipykernel)",
   "language": "python",
   "name": "python3"
  },
  "language_info": {
   "codemirror_mode": {
    "name": "ipython",
    "version": 3
   },
   "file_extension": ".py",
   "mimetype": "text/x-python",
   "name": "python",
   "nbconvert_exporter": "python",
   "pygments_lexer": "ipython3",
   "version": "3.8.3"
  }
 },
 "nbformat": 4,
 "nbformat_minor": 5
}
