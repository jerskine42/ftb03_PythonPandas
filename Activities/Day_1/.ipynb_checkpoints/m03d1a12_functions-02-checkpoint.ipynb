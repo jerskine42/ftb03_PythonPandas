{
 "cells": [
  {
   "cell_type": "code",
   "execution_count": 1,
   "id": "165b9ea5-52ef-4e18-94c6-d8a1a41e57e4",
   "metadata": {},
   "outputs": [
    {
     "data": {
      "text/plain": [
       "'hello arglebargle'"
      ]
     },
     "execution_count": 1,
     "metadata": {},
     "output_type": "execute_result"
    }
   ],
   "source": [
    "# Define a function \"warble\" that takes in a string as an argument, adds \" arglebargle\" to the end of it, and returns the result.\n",
    "def warble(string):\n",
    "    x = string + \" arglebargle\"\n",
    "    return x\n",
    "\n",
    "# Print the result of calling your \"warble\" function with the argument \"hello\".\n",
    "warble(\"hello\")"
   ]
  },
  {
   "cell_type": "code",
   "execution_count": 2,
   "id": "f23a557e-4cdc-4191-aadb-ac7a465ee113",
   "metadata": {},
   "outputs": [
    {
     "data": {
      "text/plain": [
       "'wibbly bibbly'"
      ]
     },
     "execution_count": 2,
     "metadata": {},
     "output_type": "execute_result"
    }
   ],
   "source": [
    "# Define a function \"wibble\" that takes a string as an argument, prints the argument, prepends \"wibbly \" to the argument, and returns the result\n",
    "def wibble(string):\n",
    "    x = \"wibbly \" + string\n",
    "    return x\n",
    "\n",
    "# Print the result of calling your \"wibble\" function with the argument \"bibbly\"\n",
    "wibble(\"bibbly\")"
   ]
  },
  {
   "cell_type": "code",
   "execution_count": 3,
   "id": "ba812a04-9003-4f82-b17b-ea36b59ad672",
   "metadata": {},
   "outputs": [
    {
     "name": "stdout",
     "output_type": "stream",
     "text": [
      "3\n",
      "3\n",
      "6\n"
     ]
    }
   ],
   "source": [
    "# Define a function \"print_sum\" that takes in two numbers as arguments and prints the sum of those two numbers.\n",
    "def print_sum(num1, num2):\n",
    "    x = num1 + num2\n",
    "    print(x)\n",
    "\n",
    "# Define a function \"return_sum\" that takes in two numbers as arguments and returns the sum of those two numbers\n",
    "def return_sum(num1, num2):\n",
    "    x = num1 + num2\n",
    "    return(x)\n",
    "    \n",
    "# Define a function \"triple_sum\" that takes in 3 arguments and returns the sum of those 3 numbers.\n",
    "def triple_sum(num1, num2, num3):\n",
    "    x = num1 + num2 + num3\n",
    "    return(x)\n",
    "\n",
    "print_sum(1,2)\n",
    "print(return_sum(1,2))\n",
    "print(triple_sum(1,2,3))"
   ]
  },
  {
   "cell_type": "code",
   "execution_count": 4,
   "id": "ba626b43-bf4d-44bb-a0de-e218c53834b1",
   "metadata": {},
   "outputs": [
    {
     "name": "stdout",
     "output_type": "stream",
     "text": [
      "dance!\n",
      "wibbly Jimmy arglebargle\n"
     ]
    }
   ],
   "source": [
    "# Define a function \"dance_party\" that takes in a string as an argument, prints \"dance!\", \n",
    "# updates the string from calling \"wibble\" function with that argument, \n",
    "# updates the string from calling \"warble\" function with that argument, returns the updated string\n",
    "def dance_party(string):\n",
    "    print(\"dance!\")\n",
    "    string = wibble(string)\n",
    "    string = warble(string)\n",
    "    return(string)\n",
    "\n",
    "# Print the result of calling your \"dance_party\" function with your name as the argument\n",
    "x = dance_party(\"Jimmy\")\n",
    "print(x)\n"
   ]
  },
  {
   "cell_type": "code",
   "execution_count": null,
   "id": "f126a6eb-25c4-4dc4-9c70-e5999bcdd7cb",
   "metadata": {},
   "outputs": [],
   "source": []
  }
 ],
 "metadata": {
  "kernelspec": {
   "display_name": "Python 3 (ipykernel)",
   "language": "python",
   "name": "python3"
  },
  "language_info": {
   "codemirror_mode": {
    "name": "ipython",
    "version": 3
   },
   "file_extension": ".py",
   "mimetype": "text/x-python",
   "name": "python",
   "nbconvert_exporter": "python",
   "pygments_lexer": "ipython3",
   "version": "3.8.3"
  }
 },
 "nbformat": 4,
 "nbformat_minor": 5
}
