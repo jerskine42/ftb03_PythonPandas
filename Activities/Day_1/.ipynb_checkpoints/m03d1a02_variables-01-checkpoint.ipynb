{
 "cells": [
  {
   "cell_type": "markdown",
   "id": "2bb1396e-1e78-4723-a273-33c026dd2f2e",
   "metadata": {},
   "source": [
    "# Variables\n",
    "\n",
    "# This is a comment - any code commented out is not run -\n",
    "# meaning that any code or text commented out is ignored.\n",
    "\n",
    "\"\"\"\n",
    "this is a multi-line comment\n",
    "You can comment out many lines at once.\n",
    "For the most part you will see single line comments\n",
    "but it is good to see this.\n",
    "As in single line comments, any code contained within multi-line comments are not run -\n",
    "meaning that any code commented out is ignored.\n",
    "\"\"\"\n"
   ]
  },
  {
   "cell_type": "markdown",
   "id": "2f695b2e-2ec3-433a-90a2-e296d770817d",
   "metadata": {},
   "source": [
    "# Topic: Strings"
   ]
  },
  {
   "cell_type": "code",
   "execution_count": 1,
   "id": "27bf0a30-6725-4d54-821c-6f01520ac27a",
   "metadata": {},
   "outputs": [],
   "source": [
    "# Create a variable named `subject` with no value (None).\n",
    "subject = None\n",
    "\n",
    "# Assign a value of \"Programmers to the variable `subject`.\n",
    "subject = \"Programmers\"\n",
    "\n",
    "# Create a variable, `first_name`, and assign it a value of an empty string.\n",
    "first_name = ''\n",
    "\n",
    "# Assign a value of \"Ada\" to the variable `first_name`.\n",
    "first_name = \"Ada\"\n",
    "\n",
    "# Create a variable, `last_name`, and assign it a value of a string, \"Lovelace\".\n",
    "last_name = \"Lovelace\"\n",
    "\n",
    "# Create a variable, `full_name`, and assign it a value of the combination of `first_name` and `last_name` with a space.\n",
    "full_name = first_name + \" \" + last_name\n",
    "\n",
    "# Create a variable, `profession`, and assign it a value of a string, \"Computer Programmer\".\n",
    "profession = \"Computer Programmer\"\n",
    "\n",
    "# Create a variable, `known_for`, and assign it a value of a string, \"First Computer Programmer\".\n",
    "known_for = \"First Computer Programmer\"\n",
    "\n",
    "# Create a variable, `first_algorithm`, and assign it a value of a string, \"Analytical Engine\".\n",
    "first_algorithm = \"Analytical Engine\"\n",
    "\n",
    "# Create a variable, `city_location`, and assign it a value of a string, \"London\".\n",
    "city_location = \"London\"\n",
    "\n",
    "# Create a variable, `country_location`, and assign it a value of a string, \"England\".\n",
    "country_location = \"England\"\n",
    "\n",
    "# Create a variable, `nationality`, and assign it a value of a string, \"British\".\n",
    "nationality = \"British\"\n"
   ]
  },
  {
   "cell_type": "markdown",
   "id": "a1e54b9e-b3f0-481a-97c5-341255276cfe",
   "metadata": {},
   "source": [
    "# Topic: Integers"
   ]
  },
  {
   "cell_type": "code",
   "execution_count": 2,
   "id": "27486e33-b79a-4fd0-9a2e-55619a83e945",
   "metadata": {},
   "outputs": [],
   "source": [
    "# Create a variable, `birth_year`, and assign it with an integer of 1815.\n",
    "birth_year = 1815\n",
    "\n",
    "# Create a variable, `death_year`, and assign it with an integer of 1852.\n",
    "death_year = 1852\n",
    "\n",
    "# Create a variable, `age_at_passing`, and assign it a value of death_year minus birth_year.\n",
    "age_at_passing = death_year - birth_year\n",
    "\n",
    "# Create a variable, `year_of_publish`, and assign it with an integer of 1842.\n",
    "year_of_publish = 1842\n"
   ]
  },
  {
   "cell_type": "markdown",
   "id": "42c2ca64-35c5-4855-84c4-d95868e4368a",
   "metadata": {},
   "source": [
    "#Topic: Print"
   ]
  },
  {
   "cell_type": "code",
   "execution_count": 3,
   "id": "d81b1e84-1985-422c-ae04-79752ebc6196",
   "metadata": {},
   "outputs": [
    {
     "name": "stdout",
     "output_type": "stream",
     "text": [
      "First Name: Ada\n",
      "Last Name: Lovelace\n",
      "Profession: Computer Programmer\n",
      "BirthYear: 1815\n"
     ]
    }
   ],
   "source": [
    "# Print: \"First Name: \" and `first_name`.\n",
    "print(\"First Name: \" + first_name)\n",
    "\n",
    "# Print: \"Last Name: \" and `last_name`.\n",
    "print(\"Last Name: \" + last_name)\n",
    "\n",
    "# Print: \"Profession: \" and `profession`.\n",
    "print(\"Profession: \" + profession)\n",
    "\n",
    "# Print: \"BirthYear: \" and `birth_year`.\n",
    "print(\"BirthYear: \" + str(birth_year))\n",
    "\n",
    "\n"
   ]
  },
  {
   "cell_type": "markdown",
   "id": "19f2abc1-5ecd-4c01-b471-95a06ebb9968",
   "metadata": {},
   "source": [
    "#Topic: Concat Values"
   ]
  },
  {
   "cell_type": "code",
   "execution_count": 4,
   "id": "3d50e521-65e2-47ff-97e3-8617d3d8f0b9",
   "metadata": {},
   "outputs": [
    {
     "name": "stdout",
     "output_type": "stream",
     "text": [
      "Programmers: Ada Lovelace is a British Computer Programmer born in 1815.\n",
      "She is commonly referred to as the First Computer Programmer.\n",
      "In 1842 she published the first Algorithm, the Analytical Engine, at the age of 27.\n",
      "She was a British Citizen who lived in London, England until her passing in 1852 at the age of 37.\n"
     ]
    }
   ],
   "source": [
    "# Create and print a variable, `statement_one`, by assigning it a value of a concatenated string:\n",
    "# \"Programmers: Ada Lovelace is a British Computer Programmer born in 1815.\"\n",
    "statement_one = \"Programmers: \" + full_name + \" is a \" + nationality + \" \" + profession + \" born in \" + str(birth_year) + \".\"\n",
    "print(statement_one)\n",
    "\n",
    "# Create and print a variable, `statement_two`, by assigning it a value of a concatenated string:\n",
    "# \"She is commonly referred to as the First Computer Programmer.\"\n",
    "statement_two =  \"She is commonly referred to as the \" + known_for + \".\"\n",
    "print(statement_two)\n",
    "\n",
    "# Create and print a variable, `statement_three`, by assigning it a value of a concatenated string:\n",
    "# \"In 1842 she published the first Algorithm, the Analytical Engine, at the age of 27.\"\n",
    "statement_three = \"In \" + str(year_of_publish) + \" she published the first Algorithm, the \" + first_algorithm + \", at the age of \" + str((year_of_publish - birth_year)) + \".\"\n",
    "print(statement_three)\n",
    "\n",
    "# Create and print a variable, `statement_four`, by assigning it a value of a concatenated string:\n",
    "# \"She was a British Citizen who lived in London, England until her passing in 1852 at the age of 37.\"\n",
    "statement_four = \"She was a \" + nationality + \" Citizen who lived in \" + city_location + \", \" + country_location + \" until her passing in \" + str(death_year) + \" at the age of \" + str(age_at_passing) + \".\"\n",
    "print(statement_four)"
   ]
  },
  {
   "cell_type": "code",
   "execution_count": null,
   "id": "5a86e055-c1c3-4185-826f-68d1cace3432",
   "metadata": {},
   "outputs": [],
   "source": []
  }
 ],
 "metadata": {
  "kernelspec": {
   "display_name": "Python 3 (ipykernel)",
   "language": "python",
   "name": "python3"
  },
  "language_info": {
   "codemirror_mode": {
    "name": "ipython",
    "version": 3
   },
   "file_extension": ".py",
   "mimetype": "text/x-python",
   "name": "python",
   "nbconvert_exporter": "python",
   "pygments_lexer": "ipython3",
   "version": "3.8.3"
  }
 },
 "nbformat": 4,
 "nbformat_minor": 5
}
