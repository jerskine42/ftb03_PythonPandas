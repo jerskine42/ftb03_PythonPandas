{
 "cells": [
  {
   "cell_type": "code",
   "execution_count": 1,
   "id": "18960f1d-f9ff-454b-a552-07e086b2bab4",
   "metadata": {},
   "outputs": [],
   "source": [
    "# Create a list, `list_1`,  with `0`, `1`, `2`, `3` as values.\n",
    "list_1 = [0, 1, 2, 3]\n",
    "\n",
    "# Create a list, `list_2` with `4`, `5`, `6`, `7` as values.\n",
    "list_2 = [4, 5, 6, 7]\n",
    "\n",
    "# Create a list, `list_3` with `8`, `9`, `10`, `11` as values.\n",
    "list_3 = [8, 9, 10, 11]\n",
    "\n",
    "# Create a list, `list_4` with `12`, `13`, `14`, `15` as values.\n",
    "list_4 = [12, 13, 14, 15]"
   ]
  },
  {
   "cell_type": "code",
   "execution_count": 2,
   "id": "255c1ba5-f722-4f84-afec-2b395a5f11cb",
   "metadata": {},
   "outputs": [
    {
     "data": {
      "text/plain": [
       "2"
      ]
     },
     "execution_count": 2,
     "metadata": {},
     "output_type": "execute_result"
    }
   ],
   "source": [
    "# Print the 3rd index of `list_1`.\n",
    "list_1[2]"
   ]
  },
  {
   "cell_type": "code",
   "execution_count": 3,
   "id": "9b6e4634-5401-4282-9091-bbe467b2e2f9",
   "metadata": {},
   "outputs": [
    {
     "data": {
      "text/plain": [
       "4"
      ]
     },
     "execution_count": 3,
     "metadata": {},
     "output_type": "execute_result"
    }
   ],
   "source": [
    "# Print the 1st index of `list_2`.\n",
    "list_2[0]"
   ]
  },
  {
   "cell_type": "code",
   "execution_count": 4,
   "id": "47296fbe-5617-4e46-a1f3-ad4ba3e18584",
   "metadata": {},
   "outputs": [
    {
     "data": {
      "text/plain": [
       "9"
      ]
     },
     "execution_count": 4,
     "metadata": {},
     "output_type": "execute_result"
    }
   ],
   "source": [
    "# Print the 2nd index of `list_3`.\n",
    "list_3[1]"
   ]
  },
  {
   "cell_type": "code",
   "execution_count": 5,
   "id": "f772359d-439f-4ebf-b87e-9e97f8e49ac4",
   "metadata": {},
   "outputs": [
    {
     "data": {
      "text/plain": [
       "15"
      ]
     },
     "execution_count": 5,
     "metadata": {},
     "output_type": "execute_result"
    }
   ],
   "source": [
    "# Print the 4th index of `list_4`.\n",
    "list_4[3]"
   ]
  }
 ],
 "metadata": {
  "kernelspec": {
   "display_name": "Python 3 (ipykernel)",
   "language": "python",
   "name": "python3"
  },
  "language_info": {
   "codemirror_mode": {
    "name": "ipython",
    "version": 3
   },
   "file_extension": ".py",
   "mimetype": "text/x-python",
   "name": "python",
   "nbconvert_exporter": "python",
   "pygments_lexer": "ipython3",
   "version": "3.8.3"
  }
 },
 "nbformat": 4,
 "nbformat_minor": 5
}
