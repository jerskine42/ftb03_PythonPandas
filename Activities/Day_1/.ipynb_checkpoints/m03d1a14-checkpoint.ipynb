{
 "cells": [
  {
   "cell_type": "code",
   "execution_count": 1,
   "id": "7d106fdf-83de-4aa6-8e3c-71ba9a81a8c5",
   "metadata": {},
   "outputs": [],
   "source": [
    "# Define a function `calculate` that takes in two numbers and adds, subtracts, multiplies, or divides the two numbers.\n",
    "def calculate(num1, num2):\n",
    "\n",
    "    # Create a variable `result` and set it to 0.\n",
    "    result = 0\n",
    "\n",
    "    # Prompt the user \"What do you want to do: Add, Subtract, Multiply or Divide?\" and assign the answer to a variable `choice`.\n",
    "    choice = input(\"What do you want to do: Add, Subtract, Multiply or Divide?\")\n",
    "\n",
    "    # Create an if-else statement to perform the proper calculation with the two parameters based on the user's `choice`.\n",
    "    if choice == \"a\":\n",
    "        result = str(num1 + num2)\n",
    "    elif choice == \"s\":\n",
    "        result = str(num1 - num2)\n",
    "    elif choice == \"m\":\n",
    "        result = str(num1 * num2)\n",
    "    elif choice == \"d\":\n",
    "        result = str(num1 / num2)\n",
    "    else:\n",
    "        result = \"error\"\n",
    "\n",
    "    # Return the calculated `result` variable.\n",
    "    return result\n"
   ]
  },
  {
   "cell_type": "code",
   "execution_count": 2,
   "id": "19281ff6-dbdd-4dd5-ab53-e6b2525db3eb",
   "metadata": {},
   "outputs": [
    {
     "name": "stdin",
     "output_type": "stream",
     "text": [
      "What do you want to do: Add, Subtract, Multiply or Divide? a\n"
     ]
    },
    {
     "name": "stdout",
     "output_type": "stream",
     "text": [
      "7\n"
     ]
    },
    {
     "name": "stdin",
     "output_type": "stream",
     "text": [
      "What do you want to do: Add, Subtract, Multiply or Divide? s\n"
     ]
    },
    {
     "name": "stdout",
     "output_type": "stream",
     "text": [
      "-3\n"
     ]
    },
    {
     "name": "stdin",
     "output_type": "stream",
     "text": [
      "What do you want to do: Add, Subtract, Multiply or Divide? m\n"
     ]
    },
    {
     "name": "stdout",
     "output_type": "stream",
     "text": [
      "10\n"
     ]
    },
    {
     "name": "stdin",
     "output_type": "stream",
     "text": [
      "What do you want to do: Add, Subtract, Multiply or Divide? d\n"
     ]
    },
    {
     "name": "stdout",
     "output_type": "stream",
     "text": [
      "0.4\n"
     ]
    },
    {
     "name": "stdin",
     "output_type": "stream",
     "text": [
      "What do you want to do: Add, Subtract, Multiply or Divide? r\n"
     ]
    },
    {
     "name": "stdout",
     "output_type": "stream",
     "text": [
      "error\n"
     ]
    }
   ],
   "source": [
    "# Call the `calculate` function and print the results.\n",
    "print(calculate(2,5))\n",
    "\n",
    "# Call the `calculate` function and print the results.\n",
    "print(calculate(2,5))\n",
    "\n",
    "# Call the `calculate` function and print the results.\n",
    "print(calculate(2,5))\n",
    "\n",
    "# Call the `calculate` function and print the results.\n",
    "print(calculate(2,5))\n",
    "\n",
    "# Call the `calculate` function and print the results.\n",
    "print(calculate(2,5))"
   ]
  }
 ],
 "metadata": {
  "kernelspec": {
   "display_name": "Python 3 (ipykernel)",
   "language": "python",
   "name": "python3"
  },
  "language_info": {
   "codemirror_mode": {
    "name": "ipython",
    "version": 3
   },
   "file_extension": ".py",
   "mimetype": "text/x-python",
   "name": "python",
   "nbconvert_exporter": "python",
   "pygments_lexer": "ipython3",
   "version": "3.8.3"
  }
 },
 "nbformat": 4,
 "nbformat_minor": 5
}
