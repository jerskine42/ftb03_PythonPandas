{
 "cells": [
  {
   "cell_type": "code",
   "execution_count": 3,
   "id": "de242625-41ab-4cb1-b598-ca2333ca25e9",
   "metadata": {},
   "outputs": [],
   "source": [
    "# Use the `from` keyword to import the `shows` dictionary from the `show_data.py` file\n",
    "\n",
    "from show_data import shows"
   ]
  },
  {
   "cell_type": "code",
   "execution_count": 8,
   "id": "92a47db9-cc1d-4998-88e7-bff81228ed6b",
   "metadata": {},
   "outputs": [
    {
     "name": "stdout",
     "output_type": "stream",
     "text": [
      "dict_keys(['drama', 'comedy', 'reality', 'talk', 'kids'])\n"
     ]
    }
   ],
   "source": [
    "print(shows['genre'].keys())"
   ]
  },
  {
   "cell_type": "code",
   "execution_count": 4,
   "id": "8182a259-66a5-4257-b403-4a18d2b6e2ed",
   "metadata": {},
   "outputs": [
    {
     "name": "stdout",
     "output_type": "stream",
     "text": [
      "Roger Bumpass\n"
     ]
    }
   ],
   "source": [
    "# QUESTION 1: Who is the actor that plays Squidward in Spongebob (kids)?\n",
    "print(shows['genre']['kids']['Spongebob']['cast'][3]['actor'])"
   ]
  },
  {
   "cell_type": "code",
   "execution_count": 18,
   "id": "50cd69fe-6f11-459d-a8e0-c00d9842eb5d",
   "metadata": {},
   "outputs": [
    {
     "name": "stdout",
     "output_type": "stream",
     "text": [
      "dict_keys(['drama', 'comedy', 'reality', 'talk', 'kids'])\n",
      "dict_keys(['the_office', 'parks_and_recreation', 'arrested_development', 'impractical_jokers', 'family_guy'])\n",
      "dict_keys(['cast'])\n",
      "[{'actor': 'Seth MacFarlane', 'character': ['Peter Griffin', 'Brian Griffin', 'Stewie Griffin'], 'imdb': 'https://www.imdb.com/name/nm0532235/?ref_=nv_sr_1'}, {'actor': 'Mila Kunis', 'character': 'Meg Griffin', 'imdb': 'https://www.imdb.com/name/nm0005109/?ref_=nv_sr_1'}, {'actor': 'Seth Green', 'character': 'Chris Griffin', 'imdb': 'https://www.imdb.com/name/nm0001293/?ref_=nv_sr_1'}, {'actor': 'Alex Bornstein', 'character': ['Lois Griffin', 'Tricia Takanawa', 'Barbara Pewterschmidt'], 'imdb': 'https://www.imdb.com/name/nm0097504/?ref_=nv_sr_1'}, {'actor': 'Patrick Warburton', 'character': 'Joe Swanson', 'imdb': 'https://www.imdb.com/name/nm0911320/?ref_=nv_sr_2'}]\n",
      "dict_keys(['actor', 'character', 'imdb'])\n",
      "https://www.imdb.com/name/nm0911320/?ref_=nv_sr_2\n"
     ]
    }
   ],
   "source": [
    "# QUESTION 2: Patrick Warburton plays Joe Swanson in Family Guy (comedy). What is the link to his imdb page?\n",
    "print(shows['genre'].keys())\n",
    "print(shows['genre']['comedy'].keys())\n",
    "print(shows['genre']['comedy']['family_guy'].keys())\n",
    "print(shows['genre']['comedy']['family_guy']['cast'])\n",
    "print(shows['genre']['comedy']['family_guy']['cast'][-1].keys())\n",
    "print(shows['genre']['comedy']['family_guy']['cast'][-1]['imdb'])"
   ]
  },
  {
   "cell_type": "code",
   "execution_count": 22,
   "id": "bda0920a-e206-4363-a612-cc168db876c4",
   "metadata": {},
   "outputs": [
    {
     "name": "stdout",
     "output_type": "stream",
     "text": [
      "dict_keys(['drama', 'comedy', 'reality', 'talk', 'kids'])\n",
      "dict_keys(['game_of_thrones', 'mad_men', 'dexter', 'stranger_things', 'the_walking_dead'])\n",
      "dict_keys(['cast', 'num_seasons', 'creators', 'still_running'])\n",
      "True\n"
     ]
    }
   ],
   "source": [
    "# QUESTION 3: Is the Walking Dead still running?\n",
    "print(shows['genre'].keys())\n",
    "print(shows['genre']['drama'].keys())\n",
    "print(shows['genre']['drama']['the_walking_dead'].keys())\n",
    "print(shows['genre']['drama']['the_walking_dead']['still_running'])"
   ]
  },
  {
   "cell_type": "code",
   "execution_count": 26,
   "id": "180b8215-741d-43a2-9c81-bf52ea554879",
   "metadata": {},
   "outputs": [
    {
     "name": "stdout",
     "output_type": "stream",
     "text": [
      "dict_keys(['drama', 'comedy', 'reality', 'talk', 'kids'])\n",
      "dict_keys(['game_of_thrones', 'mad_men', 'dexter', 'stranger_things', 'the_walking_dead'])\n",
      "dict_keys(['cast', 'num_seasons', 'creators', 'still_running'])\n",
      "[{'actor': 'Michael C. Hall', 'character': 'Dexter Morgan', 'imdb': 'https://www.imdb.com/name/nm0355910/?ref_=nv_sr_1'}, {'actor': 'Jennifer Carpenter', 'character': 'Deb Morgan', 'imdb': 'https://www.imdb.com/name/nm1358539/?ref_=nv_sr_1'}, {'actor': 'David Zayas', 'character': 'Angel Batista', 'imdb': 'https://www.imdb.com/name/nm0953882/?ref_=nv_sr_1'}, {'actor': 'Desmond Harrington', 'character': 'Joey Quinn', 'imdb': 'https://www.imdb.com/name/nm0004993/?ref_=nv_sr_1'}, {'actor': 'James Remar', 'character': 'Harry Morgan', 'imdb': 'https://www.imdb.com/name/nm0001664/?ref_=nv_sr_1'}]\n",
      "Michael C. Hall\n",
      "dict_keys(['drama', 'comedy', 'reality', 'talk', 'kids'])\n",
      "dict_keys(['Spongebob', 'jimmy_neutron', 'yu_gi_oh', 'dexters_lab', 'teen_titans'])\n",
      "dict_keys(['cast'])\n",
      "[{'actor': 'Christine Cavanaugh', 'character': 'Dexter', 'imdb': 'https://www.imdb.com/name/nm0004815/?ref_=nv_sr_1'}, {'actor': 'Kath Soucie', 'character': 'Mom', 'imdb': 'https://www.imdb.com/name/nm0815718/?ref_=nv_sr_1'}, {'actor': 'Jeff Bennett', 'character': 'Dad', 'imdb': 'https://www.imdb.com/name/nm0071818/?ref_=nv_sr_1'}, {'actor': 'Kat Cressida', 'character': 'Dee Dee', 'imdb': 'https://www.imdb.com/name/nm0187570/?ref_=nv_sr_1'}, {'actor': 'Tom Kenny', 'character': 'Val Hallen', 'imdb': 'https://www.imdb.com/name/nm0444786/?ref_=nv_sr_1'}]\n",
      "Christine Cavanaugh\n"
     ]
    }
   ],
   "source": [
    "# QUESTION 4: Who plays Dexter in Dexter (drama) and who plays Dexter in Dexter's Lab (kids)?\n",
    "# HINT: You can print multiple items at once by using a comma like this: print(thing1, thing2)\n",
    "print(shows['genre'].keys())\n",
    "print(shows['genre']['drama'].keys())\n",
    "print(shows['genre']['drama']['dexter'].keys())\n",
    "print(shows['genre']['drama']['dexter']['cast'])\n",
    "print(shows['genre']['drama']['dexter']['cast'][0]['actor'])\n",
    "\n",
    "print(shows['genre'].keys())\n",
    "print(shows['genre']['kids'].keys())\n",
    "print(shows['genre']['kids']['dexters_lab'].keys())\n",
    "print(shows['genre']['kids']['dexters_lab']['cast'])\n",
    "print(shows['genre']['kids']['dexters_lab']['cast'][0]['actor'])"
   ]
  },
  {
   "cell_type": "code",
   "execution_count": 31,
   "id": "d36acef6-4a97-4294-ae9f-657656300d82",
   "metadata": {},
   "outputs": [
    {
     "name": "stdout",
     "output_type": "stream",
     "text": [
      "dict_keys(['drama', 'comedy', 'reality', 'talk', 'kids'])\n",
      "dict_keys(['game_of_thrones', 'mad_men', 'dexter', 'stranger_things', 'the_walking_dead'])\n",
      "dict_keys(['cast', 'num_seasons', 'creators', 'still_running'])\n",
      "['Ross Duffer', 'Matt Duffer']\n"
     ]
    }
   ],
   "source": [
    "# QUESTION 5: Who are the creators of Stranger Things (drama)?\n",
    "print(shows['genre'].keys())\n",
    "print(shows['genre']['drama'].keys())\n",
    "print(shows['genre']['drama']['stranger_things'].keys())\n",
    "print(shows['genre']['drama']['stranger_things']['creators'])\n"
   ]
  },
  {
   "cell_type": "code",
   "execution_count": 36,
   "id": "94ef51dc-246e-4bdf-845d-155ebaa8ec92",
   "metadata": {},
   "outputs": [
    {
     "name": "stdout",
     "output_type": "stream",
     "text": [
      "dict_keys(['drama', 'comedy', 'reality', 'talk', 'kids'])\n",
      "dict_keys(['real_time_with_bill_maher', 'the_view', 'the_daily_show', 'conan', 'late_night_with_seth_meyers'])\n",
      "dict_keys(['host'])\n",
      "Trevor Noah\n"
     ]
    }
   ],
   "source": [
    "# QUESTION 6: Who hosts the Daily Show (talk)?\n",
    "print(shows['genre'].keys())\n",
    "print(shows['genre']['talk'].keys())\n",
    "print(shows['genre']['talk']['the_daily_show'].keys())\n",
    "print(shows['genre']['talk']['the_daily_show']['host'])"
   ]
  },
  {
   "cell_type": "code",
   "execution_count": 39,
   "id": "9138b795-6ec5-4382-8349-cc613b9a447c",
   "metadata": {},
   "outputs": [
    {
     "name": "stdout",
     "output_type": "stream",
     "text": [
      "dict_keys(['drama', 'comedy', 'reality', 'talk', 'kids'])\n",
      "dict_keys(['real_time_with_bill_maher', 'the_view', 'the_daily_show', 'conan', 'late_night_with_seth_meyers'])\n",
      "dict_keys(['host'])\n",
      "['Whoopi Goldberg', 'Barbara Walters', 'Joy Behar', 'Star Jones', 'Meredith Vieira']\n",
      "Whoopi Goldberg\n",
      "Barbara Walters\n",
      "Joy Behar\n",
      "Star Jones\n",
      "Meredith Vieira\n"
     ]
    }
   ],
   "source": [
    "# QUESTION 7: Who are all the hosts of the view (talk)\n",
    "# Hint: You will need to use a loop for this one. You may not simply log the entire list, but must log each name individually\n",
    "print(shows['genre'].keys())\n",
    "print(shows['genre']['talk'].keys())\n",
    "print(shows['genre']['talk']['the_view'].keys())\n",
    "print(shows['genre']['talk']['the_view']['host'])\n",
    "\n",
    "for host in shows['genre']['talk']['the_view']['host']:\n",
    "    print(host)\n"
   ]
  },
  {
   "cell_type": "code",
   "execution_count": 46,
   "id": "fb07002e-d3df-46be-aa57-de1ff7dd65fd",
   "metadata": {},
   "outputs": [
    {
     "name": "stdout",
     "output_type": "stream",
     "text": [
      "dict_keys(['drama', 'comedy', 'reality', 'talk', 'kids'])\n",
      "dict_keys(['the_office', 'parks_and_recreation', 'arrested_development', 'impractical_jokers', 'family_guy'])\n",
      "dict_keys(['cast'])\n",
      "[{'actor': 'James Murray', 'showName': 'Murr', 'imdb': 'https://www.imdb.com/name/nm2098978/?ref_=nv_sr_2'}, {'actor': 'Joseph Gatto', 'showName': 'Joe', 'imdb': 'https://www.imdb.com/name/nm2665746/?ref_=nv_sr_2'}, {'actor': 'Sal Vucano', 'showName': 'Sal', 'imdb': 'https://www.imdb.com/name/nm1742600/?ref_=nv_sr_1'}, {'actor': 'Brian Quinn', 'showName': 'Q', 'imdb': 'https://www.imdb.com/name/nm1978079/?ref_=nv_sr_1'}]\n",
      "Murr\n",
      "Joe\n",
      "Sal\n",
      "Q\n"
     ]
    }
   ],
   "source": [
    "# QUESTION 8: What are the show names of the Impractical Jokers (comedy)\n",
    "# Hint: You will need to use a loop for this one. You may not simply log the entire list, but must log each name individually\n",
    "print(shows['genre'].keys())\n",
    "print(shows['genre']['comedy'].keys())\n",
    "print(shows['genre']['comedy']['impractical_jokers'].keys())\n",
    "print(shows['genre']['comedy']['impractical_jokers']['cast'])\n",
    "\n",
    "for actors in shows['genre']['comedy']['impractical_jokers']['cast']:\n",
    "    print(actors['showName'])"
   ]
  },
  {
   "cell_type": "code",
   "execution_count": 50,
   "id": "f5225f4f-5d8a-4c47-9cb9-4e6aa772c253",
   "metadata": {},
   "outputs": [
    {
     "name": "stdout",
     "output_type": "stream",
     "text": [
      "dict_keys(['drama', 'comedy', 'reality', 'talk', 'kids'])\n",
      "dict_keys(['the_office', 'parks_and_recreation', 'arrested_development', 'impractical_jokers', 'family_guy'])\n",
      "dict_keys(['cast'])\n",
      "[{'actor': 'Jason Bateman', 'character': 'Michael Bluth', 'imdb': 'https://www.imdb.com/name/nm0000867/?ref_=nv_sr_1'}, {'actor': 'Jeffrey Tambor', 'character': 'Oscar Bluth', 'imdb': 'https://www.imdb.com/name/nm0001787/?ref_=nv_sr_1'}, {'actor': 'Will Arnett', 'character': 'Gob Bluth', 'imdb': 'https://www.imdb.com/name/nm0004715/?ref_=nv_sr_1'}, {'actor': 'Michael Cera', 'character': 'George Michael Bluth', 'imdb': 'https://www.imdb.com/name/nm0148418/?ref_=nv_sr_1'}, {'actor': 'Portia De Rossi', 'character': 'Lindsay Bluth', 'imdb': 'https://www.imdb.com/name/nm0005577/?ref_=nv_sr_1'}]\n",
      "Gob Bluth\n"
     ]
    }
   ],
   "source": [
    "# QUESTION 9: Who does Will Arnett play in Arrested Development (comedy)\n",
    "print(shows['genre'].keys())\n",
    "print(shows['genre']['comedy'].keys())\n",
    "print(shows['genre']['comedy']['arrested_development'].keys())\n",
    "print(shows['genre']['comedy']['arrested_development']['cast'])\n",
    "\n",
    "for actors in shows['genre']['comedy']['arrested_development']['cast']:\n",
    "    if actors['actor'] == \"Will Arnett\":\n",
    "        print(actors['character'])\n"
   ]
  },
  {
   "cell_type": "code",
   "execution_count": 53,
   "id": "035de461-fa04-47d5-920a-0ba0704dfd8b",
   "metadata": {},
   "outputs": [
    {
     "name": "stdout",
     "output_type": "stream",
     "text": [
      "dict_keys(['drama', 'comedy', 'reality', 'talk', 'kids'])\n",
      "dict_keys(['Spongebob', 'jimmy_neutron', 'yu_gi_oh', 'dexters_lab', 'teen_titans'])\n",
      "dict_keys(['cast'])\n",
      "[{'actor': 'Dan Green', 'character': 'Yami Yugi', 'imdb': 'https://www.imdb.com/name/nm0337751/?ref_=nv_sr_1'}, {'actor': 'Wayne Grayson', 'character': 'Joey Wheeler', 'imdb': 'https://www.imdb.com/name/nm0969901/?ref_=nv_sr_1'}, {'actor': 'Ted Lewis', 'character': 'Bakura', 'imdb': 'https://www.imdb.com/name/nm0507793/?ref_=nv_sr_1'}, {'actor': 'Eric Stuart', 'character': 'Seto Kaiba', 'imdb': 'https://www.imdb.com/name/nm0835688/?ref_=nv_sr_1'}, {'actor': 'Amy Birnbaum', 'character': 'Téa Gardner', 'imdb': 'https://www.imdb.com/name/nm0083671/?ref_=nv_sr_1'}]\n",
      "Dan Green\n"
     ]
    }
   ],
   "source": [
    "# QUESTION 10: Who plays Yami Yugi in Yu-Gi-Oh (kids)?\n",
    "print(shows['genre'].keys())\n",
    "print(shows['genre']['kids'].keys())\n",
    "print(shows['genre']['kids']['yu_gi_oh'].keys())\n",
    "print(shows['genre']['kids']['yu_gi_oh']['cast'])\n",
    "\n",
    "for actors in shows['genre']['kids']['yu_gi_oh']['cast']:\n",
    "    if actors['character'] == \"Yami Yugi\":\n",
    "        print(actors['actor'])\n",
    "\n"
   ]
  },
  {
   "cell_type": "code",
   "execution_count": 56,
   "id": "0ddf392b-286a-4253-8887-ca78b3ddb089",
   "metadata": {},
   "outputs": [
    {
     "name": "stdout",
     "output_type": "stream",
     "text": [
      "dict_keys(['drama', 'comedy', 'reality', 'talk', 'kids'])\n",
      "dict_keys(['the_office', 'parks_and_recreation', 'arrested_development', 'impractical_jokers', 'family_guy'])\n",
      "dict_keys(['cast', 'num_seasons', 'creators', 'still_running'])\n",
      "9\n"
     ]
    }
   ],
   "source": [
    "# QUESTION 11: How many seasons did the Office (comedy) run?\n",
    "print(shows['genre'].keys())\n",
    "print(shows['genre']['comedy'].keys())\n",
    "print(shows['genre']['comedy']['the_office'].keys())\n",
    "print(shows['genre']['comedy']['the_office']['num_seasons'])\n",
    "\n"
   ]
  },
  {
   "cell_type": "code",
   "execution_count": 102,
   "id": "d91bde33-0d6f-44c7-9967-ea002432e9d3",
   "metadata": {},
   "outputs": [
    {
     "name": "stdout",
     "output_type": "stream",
     "text": [
      "Attribute Genre Show Seasons Running Creator 1 Creator 2 Actor Character IMDB\n",
      "--------- ----- ---- ------- ------- --------- --------- ----- --------- ----\n",
      "genre drama game_of_thrones 8 False David Benioff D.B. Weiss Sean Bean Ned Stark https://www.imdb.com/name/nm0000293/?ref_=nv_sr_1\n",
      "genre drama game_of_thrones 8 False David Benioff D.B. Weiss Peter Dinklage Tyrion Lannister https://www.imdb.com/name/nm0227759/?ref_=nv_sr_1\n",
      "genre drama game_of_thrones 8 False David Benioff D.B. Weiss Maisie Williams Arya Stark https://www.imdb.com/name/nm3586035/?ref_=nv_sr_1\n",
      "genre drama game_of_thrones 8 False David Benioff D.B. Weiss Emilia Clarke Danaerys Targaryen https://www.imdb.com/name/nm3592338/?ref_=nv_sr_1\n",
      "genre drama game_of_thrones 8 False David Benioff D.B. Weiss Kit Harrington Jon Snow https://www.imdb.com/name/nm3229685/?ref_=nv_sr_1\n",
      "genre drama mad_men 5 False M a Jon Hamm Don Draper https://www.imdb.com/name/nm0358316/?ref_=nv_sr_1\n",
      "genre drama mad_men 5 False M a Christina Hendricks Joan Holloway https://www.imdb.com/name/nm0376716/?ref_=nv_sr_1\n",
      "genre drama mad_men 5 False M a January Jones Betty Draper https://www.imdb.com/name/nm0005064/?ref_=nv_sr_1\n",
      "genre drama mad_men 5 False M a Elizabeth Moss Peggy Olson https://www.imdb.com/name/nm0005253/?ref_=nv_sr_1\n",
      "genre drama mad_men 5 False M a John Slattery Roger Sterling https://www.imdb.com/name/nm0805476/?ref_=nv_sr_1\n",
      "genre drama dexter 8 False J a Michael C. Hall Dexter Morgan https://www.imdb.com/name/nm0355910/?ref_=nv_sr_1\n",
      "genre drama dexter 8 False J a Jennifer Carpenter Deb Morgan https://www.imdb.com/name/nm1358539/?ref_=nv_sr_1\n",
      "genre drama dexter 8 False J a David Zayas Angel Batista https://www.imdb.com/name/nm0953882/?ref_=nv_sr_1\n",
      "genre drama dexter 8 False J a Desmond Harrington Joey Quinn https://www.imdb.com/name/nm0004993/?ref_=nv_sr_1\n",
      "genre drama dexter 8 False J a James Remar Harry Morgan https://www.imdb.com/name/nm0001664/?ref_=nv_sr_1\n",
      "genre drama stranger_things 2 True Ross Duffer Matt Duffer Millie Bobby Brown Eleven https://www.imdb.com/name/nm5611121/?ref_=nv_sr_1\n",
      "genre drama stranger_things 2 True Ross Duffer Matt Duffer David harbour Chief Hopper https://www.imdb.com/name/nm1092086/?ref_=nv_sr_1\n",
      "genre drama stranger_things 2 True Ross Duffer Matt Duffer Winona Ryder Joyce https://www.imdb.com/name/nm0000213/?ref_=nv_sr_1\n",
      "genre drama stranger_things 2 True Ross Duffer Matt Duffer Gaten Matarazzo Dustin https://www.imdb.com/name/nm7140802/?ref_=nv_sr_1\n",
      "genre drama stranger_things 2 True Ross Duffer Matt Duffer Finn Wolfhard Mike https://www.imdb.com/name/nm6016511/?ref_=nv_sr_1\n",
      "genre drama the_walking_dead 8 True Robert Kirkman Frank Darabont Andrew Lincoln Rick https://www.imdb.com/name/nm0511088/?ref_=nv_sr_1\n",
      "genre drama the_walking_dead 8 True Robert Kirkman Frank Darabont Danai Gurira Michonne https://www.imdb.com/name/nm1775091/?ref_=nv_sr_1\n",
      "genre drama the_walking_dead 8 True Robert Kirkman Frank Darabont Jeffrey Dean Morgan Negan https://www.imdb.com/name/nm0604742/?ref_=nv_sr_1\n",
      "genre drama the_walking_dead 8 True Robert Kirkman Frank Darabont Norman Reedus Daryl https://www.imdb.com/name/nm0005342/?ref_=nv_sr_1\n",
      "genre drama the_walking_dead 8 True Robert Kirkman Frank Darabont Steven Yeun Glenn https://www.imdb.com/name/nm3081796/?ref_=nv_sr_1\n",
      "genre comedy the_office 9 False Ricky Gervais Stephen Merchant Steve Carell Michael Scott https://www.imdb.com/name/nm0136797/?ref_=nv_sr_1\n",
      "genre comedy the_office 9 False Ricky Gervais Stephen Merchant Jim Halpert John Krasinsky https://www.imdb.com/name/nm1024677/?ref_=nv_sr_1\n",
      "genre comedy the_office 9 False Ricky Gervais Stephen Merchant Rainn Wilson Dwight Schrute https://www.imdb.com/name/nm0933988/?ref_=nv_sr_1\n",
      "genre comedy the_office 9 False Ricky Gervais Stephen Merchant Jenna Fischer Pam Beasley https://www.imdb.com/name/nm0278979/?ref_=nv_sr_1\n",
      "genre comedy the_office 9 False Ricky Gervais Stephen Merchant Mindy Kaling Kelly Kapoor https://www.imdb.com/name/nm1411676/?ref_=nv_sr_1\n"
     ]
    },
    {
     "ename": "KeyError",
     "evalue": "'num_seasons'",
     "output_type": "error",
     "traceback": [
      "\u001b[1;31m---------------------------------------------------------------------------\u001b[0m",
      "\u001b[1;31mKeyError\u001b[0m                                  Traceback (most recent call last)",
      "\u001b[1;32m~\\AppData\\Local\\Temp\\ipykernel_24032\\1844376061.py\u001b[0m in \u001b[0;36m<cell line: 4>\u001b[1;34m()\u001b[0m\n\u001b[0;32m     11\u001b[0m                 \u001b[1;31m#print(a, b, c, d)\u001b[0m\u001b[1;33m\u001b[0m\u001b[1;33m\u001b[0m\u001b[1;33m\u001b[0m\u001b[0m\n\u001b[0;32m     12\u001b[0m \u001b[1;33m\u001b[0m\u001b[0m\n\u001b[1;32m---> 13\u001b[1;33m                 \u001b[0mseasons\u001b[0m \u001b[1;33m=\u001b[0m \u001b[0mshows\u001b[0m\u001b[1;33m[\u001b[0m\u001b[0ma\u001b[0m\u001b[1;33m]\u001b[0m\u001b[1;33m[\u001b[0m\u001b[0mb\u001b[0m\u001b[1;33m]\u001b[0m\u001b[1;33m[\u001b[0m\u001b[0mc\u001b[0m\u001b[1;33m]\u001b[0m\u001b[1;33m[\u001b[0m\u001b[1;34m'num_seasons'\u001b[0m\u001b[1;33m]\u001b[0m\u001b[1;33m\u001b[0m\u001b[1;33m\u001b[0m\u001b[0m\n\u001b[0m\u001b[0;32m     14\u001b[0m                 \u001b[0mrunning\u001b[0m \u001b[1;33m=\u001b[0m \u001b[0mshows\u001b[0m\u001b[1;33m[\u001b[0m\u001b[0ma\u001b[0m\u001b[1;33m]\u001b[0m\u001b[1;33m[\u001b[0m\u001b[0mb\u001b[0m\u001b[1;33m]\u001b[0m\u001b[1;33m[\u001b[0m\u001b[0mc\u001b[0m\u001b[1;33m]\u001b[0m\u001b[1;33m[\u001b[0m\u001b[1;34m'still_running'\u001b[0m\u001b[1;33m]\u001b[0m\u001b[1;33m\u001b[0m\u001b[1;33m\u001b[0m\u001b[0m\n\u001b[0;32m     15\u001b[0m                 \u001b[0mcreator0\u001b[0m \u001b[1;33m=\u001b[0m \u001b[0mshows\u001b[0m\u001b[1;33m[\u001b[0m\u001b[0ma\u001b[0m\u001b[1;33m]\u001b[0m\u001b[1;33m[\u001b[0m\u001b[0mb\u001b[0m\u001b[1;33m]\u001b[0m\u001b[1;33m[\u001b[0m\u001b[0mc\u001b[0m\u001b[1;33m]\u001b[0m\u001b[1;33m[\u001b[0m\u001b[1;34m'creators'\u001b[0m\u001b[1;33m]\u001b[0m\u001b[1;33m[\u001b[0m\u001b[1;36m0\u001b[0m\u001b[1;33m]\u001b[0m\u001b[1;33m\u001b[0m\u001b[1;33m\u001b[0m\u001b[0m\n",
      "\u001b[1;31mKeyError\u001b[0m: 'num_seasons'"
     ]
    }
   ],
   "source": [
    "print(\"Attribute\", \"Genre\", \"Show\", \"Seasons\", \"Running\", \"Creator 1\", \"Creator 2\", \"Actor\", \"Character\", \"IMDB\")\n",
    "print(\"---------\", \"-----\", \"----\", \"-------\", \"-------\", \"---------\", \"---------\", \"-----\", \"---------\", \"----\")\n",
    "      \n",
    "for a in shows.keys():\n",
    "    #print(a)\n",
    "    for b in shows[a].keys():\n",
    "        #print(a, b)\n",
    "        for c in shows[a][b].keys():\n",
    "            #print(a, b, c)\n",
    "            for d in shows[a][b][c].keys():\n",
    "                #print(a, b, c, d)\n",
    "                \n",
    "                seasons = shows[a][b][c]['num_seasons']\n",
    "                running = shows[a][b][c]['still_running']\n",
    "                creator0 = shows[a][b][c]['creators'][0]\n",
    "                creator1 = shows[a][b][c]['creators'][1]\n",
    "                if d == 'cast':\n",
    "                        for e in shows[a][b][c][d]:\n",
    "                            \n",
    "                            print(a, b, c, seasons, running, creator0, creator1, e['actor'], e['character'], e['imdb'])\n",
    "                \n",
    "        \n",
    "    "
   ]
  },
  {
   "cell_type": "code",
   "execution_count": null,
   "id": "15dbd329-cc6c-4acf-a808-1eda1d6fd7cf",
   "metadata": {},
   "outputs": [],
   "source": [
    "# QUESTION 11: How many seasons did the Office (comedy) run?\n",
    "\n",
    "\n",
    "# QUESTION 12: Who are the main characters of the Office (comedy) (not the actors, but the actual character names)?\n",
    "\n",
    "\n",
    "# QUESTION 13: List the characters in Teen Titans (kids)\n",
    "\n",
    "\n",
    "# QUESTION 14: What is the link to the IMDB page for the actor who plays Mr. Krabs (Spongebob, kids)?\n",
    "\n",
    "\n",
    "# QUESTION 15: Who plays Negan in The Walking Dead?\n",
    "\n",
    "\n",
    "# QUESTION 16: List the main cast of Dexter (drama) (the actors, not the characters)\n",
    "\n",
    "\n",
    "# QUESTION 17: Is Game of Thrones(drama) still running?\n",
    "\n",
    "\n",
    "# QUESTION 18: Who does Peter Dinklage play in Game of Thrones (drama)?\n",
    "\n",
    "\n",
    "# QUESTION 19: List the American Idol Judges\n",
    "\n",
    "\n",
    "# QUESTION 20: Who plays Dustin in Stanger Things (drama)?\n"
   ]
  },
  {
   "cell_type": "code",
   "execution_count": null,
   "id": "2df55b72-a33f-4888-94f9-8d48900e9364",
   "metadata": {},
   "outputs": [],
   "source": []
  }
 ],
 "metadata": {
  "kernelspec": {
   "display_name": "Python 3 (ipykernel)",
   "language": "python",
   "name": "python3"
  },
  "language_info": {
   "codemirror_mode": {
    "name": "ipython",
    "version": 3
   },
   "file_extension": ".py",
   "mimetype": "text/x-python",
   "name": "python",
   "nbconvert_exporter": "python",
   "pygments_lexer": "ipython3",
   "version": "3.8.3"
  }
 },
 "nbformat": 4,
 "nbformat_minor": 5
}
