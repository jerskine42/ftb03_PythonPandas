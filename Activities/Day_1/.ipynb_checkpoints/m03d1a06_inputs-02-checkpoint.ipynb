{
 "cells": [
  {
   "cell_type": "code",
   "execution_count": 1,
   "id": "85a1d7f2-343c-4fda-9c94-ce396d8f0c94",
   "metadata": {},
   "outputs": [],
   "source": [
    "# Declare a variable of `name` with an input and a string of \"Welcome to the Boba Shop! What is your name?\".\n",
    "\n",
    "\n",
    "# Check if `name` is not an empty string or equal to `None`.\n",
    "\n",
    "    # If so, write a print statement with a string of \"Hello\" concatenated with the variable `name`.\n",
    "\n",
    "\n",
    "    # Then, declare a variable of `beverage` with an input and a string of \"What kind of boba drink would you like?\".\n",
    "\n",
    "\n",
    "    # Then, Declare a variable of `sweetness_level` with an input and a string of \"How sweet do you want your drink: 0, 50, 100, or 200?\".\n",
    "\n",
    "\n",
    "    # If `sweetness` equals 50 print \"half sweetened\".\n",
    "\n",
    "    # Else if `sweetness` 100 print \"normal sweet\".\n",
    "\n",
    "    # Else if `sweetness` 200 print \"super sweet\".\n",
    "\n",
    "    # Else print with a string of \"non-sweet\".\n",
    "\n",
    "\n",
    "    # Then print the string of \"Your order of \" concatenated with the variable `beverage`, concatenated with \" boba with a sweet level of \", concatenated with the variable `sweetness`\n",
    "\n",
    "# Else, print the string of \"You didn't give us your name! Goodbye\"\n",
    "\n",
    "\n"
   ]
  },
  {
   "cell_type": "code",
   "execution_count": 2,
   "id": "7b0c519a-50ad-465e-981e-b14815bd02a9",
   "metadata": {},
   "outputs": [
    {
     "name": "stdin",
     "output_type": "stream",
     "text": [
      "Welcome to the Boba Shop! What is your name?  bill\n"
     ]
    }
   ],
   "source": [
    "# Declare a variable of `name` with an input and a string of \"Welcome to the Boba Shop! What is your name?\".\n",
    "name = None\n",
    "name = input(\"Welcome to the Boba Shop! What is your name? \")"
   ]
  },
  {
   "cell_type": "code",
   "execution_count": 3,
   "id": "835536e1-a079-4fae-813d-820e3fdfaab7",
   "metadata": {},
   "outputs": [
    {
     "name": "stdout",
     "output_type": "stream",
     "text": [
      "Hello bill\n"
     ]
    },
    {
     "name": "stdin",
     "output_type": "stream",
     "text": [
      "What kind of boba drink would you like?  blue\n",
      "How sweet do you want your drink: 0, 50, 100, or 200?  100\n"
     ]
    },
    {
     "name": "stdout",
     "output_type": "stream",
     "text": [
      "Your order of blue boba with a sweet level of normal sweet\n"
     ]
    }
   ],
   "source": [
    "# Check if `name` is not an empty string or equal to `None`.\n",
    "if (name != None) and (name != \"\"):\n",
    "    # If so, write a print statement with a string of \"Hello\" concatenated with the variable `name`.\n",
    "    print(\"Hello \" + name)\n",
    "\n",
    "    # Then, declare a variable of `beverage` with an input and a string of \"What kind of boba drink would you like?\".\n",
    "    beverage = input(\"What kind of boba drink would you like? \")\n",
    "\n",
    "    # Then, Declare a variable of `sweetness_level` with an input and a string of \"How sweet do you want your drink: 0, 50, 100, or 200?\".\n",
    "    sweetness_level = int( input(\"How sweet do you want your drink: 0, 50, 100, or 200? \"))\n",
    "\n",
    "    # If `sweetness` equals 50 print \"half sweetened\".\n",
    "    if sweetness_level == 50:\n",
    "        sweetness = \"half sweetened\"\n",
    "\n",
    "    # Else if `sweetness` 100 print \"normal sweet\".\n",
    "    elif sweetness_level == 100:\n",
    "        sweetness = \"normal sweet\"\n",
    "    \n",
    "    # Else if `sweetness` 200 print \"super sweet\".\n",
    "    elif sweetness_level == 200:\n",
    "        sweetness = \"super sweet\"\n",
    "    \n",
    "    # Else print with a string of \"non-sweet\".\n",
    "    else:\n",
    "        sweetness = \"non-sweet\"\n",
    "\n",
    "    # Then print the string of \"Your order of \" concatenated with the variable `beverage`, concatenated with \" boba with a sweet level of \", concatenated with the variable `sweetness`\n",
    "    print(\"Your order of \" + beverage + \" boba with a sweet level of \" + str(sweetness))\n",
    "    \n",
    "# Else, print the string of \"You didn't give us your name! Goodbye\"\n",
    "else:\n",
    "    print(\"You didn't give us your name! Goodbye\")"
   ]
  }
 ],
 "metadata": {
  "kernelspec": {
   "display_name": "Python 3 (ipykernel)",
   "language": "python",
   "name": "python3"
  },
  "language_info": {
   "codemirror_mode": {
    "name": "ipython",
    "version": 3
   },
   "file_extension": ".py",
   "mimetype": "text/x-python",
   "name": "python",
   "nbconvert_exporter": "python",
   "pygments_lexer": "ipython3",
   "version": "3.8.3"
  }
 },
 "nbformat": 4,
 "nbformat_minor": 5
}
