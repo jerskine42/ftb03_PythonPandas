{
 "cells": [
  {
   "cell_type": "code",
   "execution_count": 1,
   "id": "7b0c519a-50ad-465e-981e-b14815bd02a9",
   "metadata": {},
   "outputs": [
    {
     "name": "stdin",
     "output_type": "stream",
     "text": [
      "Welcome to the sandwich shop, what do I call you?  Bill\n"
     ]
    }
   ],
   "source": [
    "# Declare a variable `welcome_name` as an input with a string of \"Welcome to the sandwich shop, what do I call you? \".\n",
    "welcome_name = input(\"Welcome to the sandwich shop, what do I call you? \")\n",
    "\n",
    "\n"
   ]
  },
  {
   "cell_type": "code",
   "execution_count": 2,
   "id": "835536e1-a079-4fae-813d-820e3fdfaab7",
   "metadata": {},
   "outputs": [
    {
     "name": "stdout",
     "output_type": "stream",
     "text": [
      "Hello Bill\n"
     ]
    }
   ],
   "source": [
    "# Then print the string \"Hello\" concatenated with the variable `welcome_name`.\n",
    "print(\"Hello \" + welcome_name)\n",
    "\n"
   ]
  },
  {
   "cell_type": "code",
   "execution_count": 8,
   "id": "9120d51b-9baf-42df-bf61-39026d8539de",
   "metadata": {},
   "outputs": [
    {
     "name": "stdin",
     "output_type": "stream",
     "text": [
      "Are you here for a sandwich? (Yes or No?)  aaa\n"
     ]
    }
   ],
   "source": [
    "# Declare a variable `question_sandwich` as an input with a string of \"Are you here for a sandwich? (Yes or No?) \".\n",
    "question_sandwich = input(\"Are you here for a sandwich? (Yes or No?) \")\n"
   ]
  },
  {
   "cell_type": "code",
   "execution_count": null,
   "id": "5eec127b-1668-4029-9d3e-d784ca8787ac",
   "metadata": {},
   "outputs": [],
   "source": [
    "# If `question_sandwich` is equal to true declare a variable `food_prompt` as an input with a string of \"What kind of sandwich would you like?\".\n",
    "# Then print a string of \"Please wait 10 min for your \" concatenated with the variable `food_prompt`.\n",
    "# Else If `question_sandwich` is false, print a string of \"If you don't want a sandwich what are you here for?!\".\n",
    "# Else print a string of \"You did not write Yes or No!\""
   ]
  },
  {
   "cell_type": "code",
   "execution_count": 10,
   "id": "dd76fc0e-6591-4a86-8073-12e7e5589840",
   "metadata": {},
   "outputs": [
    {
     "name": "stdout",
     "output_type": "stream",
     "text": [
      "You did not write Yes or No!\n"
     ]
    }
   ],
   "source": [
    "if question_sandwich == \"Yes\":\n",
    "    food_prompt = input(\"What kind of sandwich would you like?\")\n",
    "elif question_sandwich == \"No\":\n",
    "    print(\"If you don't want a sandwich what are you here for?!\")\n",
    "else:\n",
    "    print(\"You did not write Yes or No!\")"
   ]
  },
  {
   "cell_type": "code",
   "execution_count": null,
   "id": "76fad82e-d56d-4bb1-864f-566671550211",
   "metadata": {},
   "outputs": [],
   "source": []
  }
 ],
 "metadata": {
  "kernelspec": {
   "display_name": "Python 3 (ipykernel)",
   "language": "python",
   "name": "python3"
  },
  "language_info": {
   "codemirror_mode": {
    "name": "ipython",
    "version": 3
   },
   "file_extension": ".py",
   "mimetype": "text/x-python",
   "name": "python",
   "nbconvert_exporter": "python",
   "pygments_lexer": "ipython3",
   "version": "3.8.3"
  }
 },
 "nbformat": 4,
 "nbformat_minor": 5
}
