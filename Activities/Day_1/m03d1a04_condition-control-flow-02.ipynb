{
 "cells": [
  {
   "cell_type": "markdown",
   "id": "2f0abfb1-c892-45cf-871d-7b613b76f215",
   "metadata": {},
   "source": [
    "######################\n",
    "# Create Character One\n",
    "######################"
   ]
  },
  {
   "cell_type": "code",
   "execution_count": 1,
   "id": "d0d6e103-52c5-46c2-aab9-d04d51b96191",
   "metadata": {},
   "outputs": [],
   "source": [
    "# Make a variable called `c1_name` and have it equal a string of \"Mr. Farley\".\n",
    "c1_name = \"Mr. Farley\"\n",
    "\n",
    "# Make a variable called `c1_age` and have it equal to an integer of 65.\n",
    "c1_age = 65\n",
    "\n",
    "# Make a variable called `c1_profession` and have it equal to \"Web Developer\".\n",
    "c1_profession = \"Web Developer\"\n",
    "\n",
    "# Make a variable called `c1_salary` and have it equal to 100000.\n",
    "c1_salary = 100000\n",
    "\n",
    "# Make a variable called `c1_species` and have it equal to \"cat\".\n",
    "c1_species = \"cat\"\n",
    "\n",
    "# Make a variable called `c1_location` and have it equal to \"San Francisco, CA\".\n",
    "c1_location = \"San Francisco, CA\"\n",
    "\n",
    "# Make a variable called `c1_monthly_rent` and have it equal to 2000.\n",
    "c1_monthly_rent = 2000\n",
    "\n",
    "# Make a variable called `c1_monthly_expenses` and have it equal to 1500.\n",
    "c1_monthly_expenses = 1500\n",
    "\n",
    "# Make a variable called `c1_yearly_rent` and have it equal to `c1_monthly_rent` * 12.\n",
    "c1_yearly_rent = c1_monthly_rent * 12\n",
    "\n",
    "# Make a variable called `c1_yearly_expenses` and have it equal to 1500.00 * 12\n",
    "c1_yearly_expenses = c1_monthly_expenses * 12\n",
    "\n",
    "# Make a variable called `c1_savings` and have it equal to `c1_salary` - (`c1_yearly_rent` + `c1_yearly_expenses`)\n",
    "c1_savings = c1_salary - (c1_yearly_rent + c1_yearly_expenses)\n"
   ]
  },
  {
   "cell_type": "markdown",
   "id": "7dc09835-17f5-489b-9c21-472941e2e75e",
   "metadata": {},
   "source": [
    "######################\n",
    "# Create Character Two\n",
    "######################"
   ]
  },
  {
   "cell_type": "code",
   "execution_count": 2,
   "id": "1aeb3c39-d6ed-4db5-a4e7-d7820da123cc",
   "metadata": {},
   "outputs": [],
   "source": [
    "# Make a variable called `c2_name` and have it equal a string of \"Mr. Snuggles\".\n",
    "c2_name = \"Mr. Snuggles\"\n",
    "\n",
    "# Make a variable called `c2_age` and have it equal to an integer of 30.\n",
    "c2_age = 30\n",
    "\n",
    "# Make a variable called `c2_species` and have it equal to \"mouse\".\n",
    "c2_species = \"mouse\"\n",
    "\n",
    "# Make a variable called `c2_profession` and have it equal \"Accountant\"\n",
    "c2_profession = \"Accountant\"\n",
    "\n",
    "# Make a variable called `c2_salary` and have it equal to 70000.\n",
    "c2_salary = 70000\n",
    "\n",
    "# Make a variable called `c2_location` and have it equal to \"Oakland, CA\".\n",
    "c2_location = \"Oakland, CA\"\n",
    "\n",
    "# Make a variable called `c2_monthly_rent` and have it equal to 4000.\n",
    "c2_monthly_rent = 4000\n",
    "\n",
    "# Make a variable called `c2_monthly_expenses` and have it equal to 500.\n",
    "c2_monthly_expenses = 500\n",
    "\n",
    "# Make a variable called `c2_yearly_rent` and have it equal to `c2_monthly_rent` * 12.\n",
    "c2_yearly_rent = c2_monthly_rent * 12\n",
    "\n",
    "# Make a variable called `c2_yearly_expenses` and have it equal to `c2_monthly_expenses` * 12.\n",
    "c2_yearly_expenses = c2_monthly_expenses * 12\n",
    "\n",
    "# Make a variable called `c2_savings` and have it equal to `c2_salary` - (`c2_yearly_rent` + `c2_yearly_expenses`)\n",
    "c2_savings = c2_salary - (c2_yearly_rent + c2_yearly_expenses)\n",
    "\n"
   ]
  },
  {
   "cell_type": "markdown",
   "id": "355cc0fd-3fbf-4e31-a6d3-7cd79946f4b8",
   "metadata": {},
   "source": [
    "##############\n",
    "# Conditionals\n",
    "##############"
   ]
  },
  {
   "cell_type": "markdown",
   "id": "d63cf651-b464-4814-a96c-270a55af5b67",
   "metadata": {},
   "source": [
    "# Write an if-else statement to check if `c1_name` is equal to \"Mr. Farley\". "
   ]
  },
  {
   "cell_type": "code",
   "execution_count": 3,
   "id": "e8e663f6-7267-4dee-a60e-8d92e3680ada",
   "metadata": {},
   "outputs": [
    {
     "name": "stdout",
     "output_type": "stream",
     "text": [
      "Hello: Mr. Farley\n"
     ]
    }
   ],
   "source": [
    "#If so, print a string of \"Hello Mr. Farley\" using the `c1_name` variable. \n",
    "#If not, print a string of \"Hello stranger\".\n",
    "if c1_name == \"Mr. Farley\":\n",
    "    print(\"Hello: \" + c1_name)\n",
    "else:\n",
    "    print(\"Hello stranger\")"
   ]
  },
  {
   "cell_type": "markdown",
   "id": "e85bbda2-dc88-4774-87d4-85ce8fe78205",
   "metadata": {},
   "source": [
    "# Write an if-else statement to check if `c2_age` is greater than `c1_age`. "
   ]
  },
  {
   "cell_type": "code",
   "execution_count": 4,
   "id": "3f9d20d1-ec58-4a98-9c89-9768eb815c66",
   "metadata": {},
   "outputs": [
    {
     "name": "stdout",
     "output_type": "stream",
     "text": [
      "Mr. Farley is older than Mr. Snuggles\n"
     ]
    }
   ],
   "source": [
    "#If so, print a string of \"Mr. Farley is older than Mr. Snuggles\". \n",
    "#Else if `c1_age` is greater than `c2_age`, print a string of \"Mr. Snuggles is older than Mr. Farley\". \n",
    "#Else, `c1_age` must be equal to `c2_age`, therefore print a string of \"Mr. Farley is the same age as Mr. Snuggles\".\n",
    "if c2_age > c1_age:\n",
    "    print(c2_name + \" is older than \" +  c1_name)\n",
    "elif c2_age < c1_age:\n",
    "    print(c1_name + \" is older than \" +  c2_name)\n",
    "else:\n",
    "    print(c1_name + \" is the same age as \" +  c2_name)"
   ]
  },
  {
   "cell_type": "markdown",
   "id": "47037f3f-b577-4a0f-94c1-c2d76b886a7d",
   "metadata": {},
   "source": [
    "# Write an if-else statement to check if `c1_location` is equal to \"Oakland, CA\". "
   ]
  },
  {
   "cell_type": "code",
   "execution_count": 5,
   "id": "0a46d9d0-f74e-40c4-923e-82a98d364ba5",
   "metadata": {},
   "outputs": [
    {
     "name": "stdout",
     "output_type": "stream",
     "text": [
      "Mr. Farley Mr. Farley comes from the home of the 49ers!\n"
     ]
    }
   ],
   "source": [
    "#If so, print a string of \"Mr. Farley comes from the home of the Raiders!\". \n",
    "#Else if `c1_location` is equal to a string of \"San Francisco, CA\", print a string of \"Mr. Farley comes from the home of the 49ers!\". \n",
    "#Else both conditions must not apply and therefore print a string \"Mr. Farley doesn't hail from a sports town.\"\n",
    "if c1_location == \"Oakland, CA\":\n",
    "    print(c1_name + \" comes from the home of the Raiders!\" )\n",
    "elif c1_location == \"San Francisco, CA\":\n",
    "    print(c1_name + \" comes from the home of the 49ers!\" )\n",
    "else:\n",
    "    print(c1_name + \"  doesn't hail from a sports town.\")"
   ]
  },
  {
   "cell_type": "markdown",
   "id": "2e051bf9-8444-46bc-9606-6f55e90a31f8",
   "metadata": {},
   "source": [
    "# Write an if-else statement to check if `c1_monthly_rent` is greater than `c2_monthly_rent`. "
   ]
  },
  {
   "cell_type": "code",
   "execution_count": 6,
   "id": "06f53758-a41b-41ad-8edc-775b866887c2",
   "metadata": {},
   "outputs": [
    {
     "name": "stdout",
     "output_type": "stream",
     "text": [
      "Mr. Farley pays less rent than Mr. Snuggles\n"
     ]
    }
   ],
   "source": [
    "#If so, print a string of \"Mr. Farley pays more rent than Mr. Snuggles\". \n",
    "#Else if `c1_monthly_rent` is less than `c2_monthly_rent`, print a string of \"Mr. Farley pays less rent than Mr. Snuggles\". \n",
    "#Else, `c1_monthly_rent` must be equal to `c2_monthly_rent`, therefore print a string of \"Mr. Farley pays the same rent as Mr. Snuggles\".\n",
    "if c1_monthly_rent > c2_monthly_rent:\n",
    "    print(c1_name + \" pays more rent than \" +  c2_name)\n",
    "elif c1_monthly_rent < c2_monthly_rent:\n",
    "    print(c1_name + \" pays less rent than \" +  c2_name)\n",
    "else:\n",
    "    print(c1_name + \" pays the same rent as \" +  c2_name)"
   ]
  },
  {
   "cell_type": "markdown",
   "id": "c9e79b1d-427b-4422-9be4-14e93e15c0c7",
   "metadata": {},
   "source": [
    "# Write an if-else statement to check if `c1_monthly_expenses` is greater than `c2_monthly_expenses`. "
   ]
  },
  {
   "cell_type": "code",
   "execution_count": 7,
   "id": "31c420c9-5b85-44d0-8053-bf3671390ec7",
   "metadata": {},
   "outputs": [
    {
     "name": "stdout",
     "output_type": "stream",
     "text": [
      "Mr. Farley pays more rent than Mr. Snuggles\n"
     ]
    }
   ],
   "source": [
    "#If so, print a string of `Mr. Farley has more expenses than Mr. Snuggles`. \n",
    "#Else if `c1_monthly_expenses` is less than `c2_monthly_expenses`, print a string of \"Mr. Farley pays less expenses than Mr. Snuggles\". \n",
    "#Else, `c1_monthly_expenses` must be equal to `c2_monthly_expenses`, therefore print a string of \"Mr. Farley pays the same expenses as Mr. Snuggles\".\n",
    "if c1_monthly_expenses > c2_monthly_expenses:\n",
    "    print(c1_name + \" pays more expenses than \" +  c2_name)\n",
    "elif c1_monthly_expenses < c2_monthly_expenses:\n",
    "    print(c1_name + \" pays less expenses than \" +  c2_name)\n",
    "else:\n",
    "    print(c1_name + \" pays the same expenses as \" +  c2_name)\n"
   ]
  },
  {
   "cell_type": "markdown",
   "id": "81ccffb8-54a6-485a-bebd-bf76c91c8b69",
   "metadata": {},
   "source": [
    "# Write an if-else statement to check if `c1_profession` is equal to \"Web Developer\" AND `c2_profession` is equal to \"Accountant\". "
   ]
  },
  {
   "cell_type": "code",
   "execution_count": 9,
   "id": "3d807aec-2860-4052-a4fe-a0871651b53d",
   "metadata": {},
   "outputs": [
    {
     "name": "stdout",
     "output_type": "stream",
     "text": [
      "They are a Web Developer and an Accountant\n"
     ]
    }
   ],
   "source": [
    "#If so, print a string of \"They are a Web Developer and an Accountant\", \n",
    "#else print a string of \"They are professionals.\"\n",
    "if (c1_profession == \"Web Developer\") and (c2_pro     fession == \"Accountant\"):\n",
    "    print(\"They are a Web Developer and an Accountant\")\n",
    "else:\n",
    "    print(\"They are professionals.\")\n"
   ]
  },
  {
   "cell_type": "code",
   "execution_count": null,
   "id": "82663fff-277b-4197-a483-0ba6a5073f10",
   "metadata": {},
   "outputs": [],
   "source": []
  }
 ],
 "metadata": {
  "kernelspec": {
   "display_name": "Python 3 (ipykernel)",
   "language": "python",
   "name": "python3"
  },
  "language_info": {
   "codemirror_mode": {
    "name": "ipython",
    "version": 3
   },
   "file_extension": ".py",
   "mimetype": "text/x-python",
   "name": "python",
   "nbconvert_exporter": "python",
   "pygments_lexer": "ipython3",
   "version": "3.8.3"
  }
 },
 "nbformat": 4,
 "nbformat_minor": 5
}
