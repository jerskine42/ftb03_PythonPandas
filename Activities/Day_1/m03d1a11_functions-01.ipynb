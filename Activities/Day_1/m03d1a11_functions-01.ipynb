{
 "cells": [
  {
   "cell_type": "code",
   "execution_count": 2,
   "id": "ba626b43-bf4d-44bb-a0de-e218c53834b1",
   "metadata": {},
   "outputs": [],
   "source": [
    "# Define a function `having_fun` that prints \"Functions are FUN!\".\n",
    "def having_fun():\n",
    "    print(\"Functions are FUN!\")\n",
    "\n",
    "# Define a function `thirty_seven` that prints the sum of 18 and 19.\n",
    "def thirty_seven():\n",
    "    x = 18 + 19\n",
    "    return x"
   ]
  },
  {
   "cell_type": "code",
   "execution_count": 3,
   "id": "bfc23c43-3b2b-4864-934d-a92b7c5ac0bb",
   "metadata": {},
   "outputs": [
    {
     "name": "stdout",
     "output_type": "stream",
     "text": [
      "Functions are FUN!\n",
      "37\n"
     ]
    }
   ],
   "source": [
    "# Call the two functions you've defined so far.\n",
    "having_fun()\n",
    "\n",
    "print(thirty_seven())"
   ]
  },
  {
   "cell_type": "code",
   "execution_count": 4,
   "id": "95a5a364-df60-4a77-9b26-29617a7570bc",
   "metadata": {},
   "outputs": [
    {
     "name": "stdout",
     "output_type": "stream",
     "text": [
      "123\n"
     ]
    }
   ],
   "source": [
    "# Define a function `hello` that takes in a string parameter and prints the parameter variable.\n",
    "def hello(string):\n",
    "    print(string)\n",
    "\n",
    "# Call your `hello` function.\n",
    "hello(\"123\")"
   ]
  },
  {
   "cell_type": "code",
   "execution_count": 7,
   "id": "5f6c874e-1391-47f8-a894-605eb1831ee4",
   "metadata": {},
   "outputs": [
    {
     "name": "stdin",
     "output_type": "stream",
     "text": [
      "What is your name? Bill\n"
     ]
    },
    {
     "name": "stdout",
     "output_type": "stream",
     "text": [
      "Bill\n"
     ]
    },
    {
     "data": {
      "text/plain": [
       "'Bill'"
      ]
     },
     "execution_count": 7,
     "metadata": {},
     "output_type": "execute_result"
    }
   ],
   "source": [
    "# Define a function `user_input` that asks the user \"What is your name?\" \n",
    "#and stores it in a variable called `user_name` and print the user's name.\n",
    "def user_input():\n",
    "    user_name = input(\"What is your name?\")\n",
    "    print(user_name)\n",
    "    return user_name\n",
    "\n",
    "# Call your `user_input` function.\n",
    "user_input()\n"
   ]
  },
  {
   "cell_type": "code",
   "execution_count": 8,
   "id": "2a6621f1-dfec-4539-8507-32efb1e0d462",
   "metadata": {},
   "outputs": [
    {
     "name": "stdin",
     "output_type": "stream",
     "text": [
      "Are you having a nice day? Tomorrow\n"
     ]
    },
    {
     "name": "stdout",
     "output_type": "stream",
     "text": [
      "Tomorrow\n"
     ]
    }
   ],
   "source": [
    "# Define a function `good_day` that creates an input dialogue asking the user \"Are you having a nice day?\" and prints the response.\n",
    "def good_day():\n",
    "    x = input(\"Are you having a nice day?\")\n",
    "    print(x)\n",
    "\n",
    "# Call your `good_day` function.\n",
    "good_day()\n"
   ]
  },
  {
   "cell_type": "code",
   "execution_count": 9,
   "id": "27d59c5a-b305-46cb-816d-2afb5fe25471",
   "metadata": {},
   "outputs": [
    {
     "name": "stdout",
     "output_type": "stream",
     "text": [
      "39.5\n"
     ]
    }
   ],
   "source": [
    "# Define a function `average` that calculates the average between two parameters and returns the average.\n",
    "def average(x1, x2):\n",
    "    avg = (float(x1) + float(x2))/2\n",
    "    return avg\n",
    "\n",
    "# Call the `average` function and assign it to a variable `calculated_average`.\n",
    "print(average(23,56))"
   ]
  },
  {
   "cell_type": "code",
   "execution_count": null,
   "id": "f126a6eb-25c4-4dc4-9c70-e5999bcdd7cb",
   "metadata": {},
   "outputs": [],
   "source": []
  }
 ],
 "metadata": {
  "kernelspec": {
   "display_name": "Python 3 (ipykernel)",
   "language": "python",
   "name": "python3"
  },
  "language_info": {
   "codemirror_mode": {
    "name": "ipython",
    "version": 3
   },
   "file_extension": ".py",
   "mimetype": "text/x-python",
   "name": "python",
   "nbconvert_exporter": "python",
   "pygments_lexer": "ipython3",
   "version": "3.8.3"
  }
 },
 "nbformat": 4,
 "nbformat_minor": 5
}
