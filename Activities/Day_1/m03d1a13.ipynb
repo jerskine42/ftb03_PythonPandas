{
 "cells": [
  {
   "cell_type": "code",
   "execution_count": 20,
   "id": "ca053e45-32c9-448d-9120-91166b2d6e7b",
   "metadata": {},
   "outputs": [],
   "source": [
    "# Import the necessary libraries for reading csv files\n",
    "import csv\n",
    "from pathlib import Path\n",
    "import random"
   ]
  },
  {
   "cell_type": "code",
   "execution_count": 21,
   "id": "7d106fdf-83de-4aa6-8e3c-71ba9a81a8c5",
   "metadata": {},
   "outputs": [],
   "source": [
    "# Set the path for the csv file\n",
    "csv_path = Path(\"pokemon.csv\")\n",
    "records =[]"
   ]
  },
  {
   "cell_type": "code",
   "execution_count": 31,
   "id": "2b6e8cbe-71aa-4661-ae57-2250912ec481",
   "metadata": {},
   "outputs": [
    {
     "name": "stdout",
     "output_type": "stream",
     "text": [
      "['id', 'identifier', 'species_id', 'height', 'weight', 'base_experience', 'order', 'is_default']\n",
      "--------------------\n",
      "43\n",
      "Pokemon No. 43 - oddish\n",
      "\n",
      "Heaviest Pokemon\n",
      "--------------------\n",
      "snorlax 4600\n",
      "steelix 4000\n",
      "aggron 3600\n",
      "wailord 3980\n",
      "metagross 5500\n",
      "kyogre 3520\n",
      "groudon 9500\n",
      "torterra 3100\n",
      "probopass 3400\n",
      "dialga 6830\n",
      "palkia 3360\n",
      "heatran 4300\n",
      "regigigas 4200\n",
      "giratina-altered 7500\n",
      "arceus 3200\n",
      "golurk 3300\n",
      "reshiram 3300\n",
      "zekrom 3450\n",
      "kyurem 3250\n",
      "avalugg 5050\n",
      "zygarde 3050\n",
      "mudsdale 9200\n",
      "cosmoem 9999\n",
      "buzzwole 3336\n",
      "celesteela 9999\n",
      "guzzlord 8880\n",
      "stakataka 8200\n",
      "\n",
      "Tallest Pokemon\n",
      "--------------------\n",
      "onix 88\n",
      "gyarados 65\n",
      "steelix 92\n",
      "lugia 52\n",
      "wailord 145\n",
      "milotic 62\n",
      "rayquaza 70\n",
      "dialga 54\n",
      "yveltal 58\n",
      "celesteela 92\n",
      "guzzlord 55\n",
      "stakataka 55\n"
     ]
    }
   ],
   "source": [
    "# Create new lists to store data for heaviest and tallest pokemon\n",
    "heaviest =[]\n",
    "tallest = []\n",
    "\n",
    "\n",
    "# Open the csv\n",
    "with open(csv_path, 'r') as csv_file:\n",
    "   \n",
    "\n",
    "    # Iterate through the data and search for the number the user inputted. Remember to skip the header of the CSV.\n",
    "    csv_reader = csv.reader(csv_file, delimiter = ',')\n",
    "    csv_header = next(csv_reader)\n",
    "    print(csv_header)\n",
    "    print(\"--------------------\")\n",
    "    user_input = random.randint(1, 807)\n",
    "    print(user_input)\n",
    "    for row in csv_reader:\n",
    "\n",
    "        # Print the name of the pokemon(identifier) and pokedex number(species id) at that number. For example, \"Pokemon No. 25 - pikachu\".\n",
    "        if int(row[0]) == user_input:\n",
    "            print(\"Pokemon No. \" + str(row[2]) + \" - \" + row[1])\n",
    "\n",
    "        # Iterate through the data and search for pokemon whose weight is greater than 3000. Append only the pokemon's name and weight to the 'heaviest' list.\n",
    "        if int(row[4]) > 3000:\n",
    "            pokemon_h = [row[1],row[4]]\n",
    "            heaviest.append(pokemon_h)\n",
    "\n",
    "        # Iterate through the data and search for pokemon whose height is greater than 50. Append only the pokemon's name and height to the 'tallest' list.\n",
    "        if int(row[3]) > 50:\n",
    "            pokemon_t = [row[1],row[3]]\n",
    "            tallest.append(pokemon_t)\n",
    "\n",
    "# Print the list of heaviest and tallest pokemon\n",
    "print(\"\\nHeaviest Pokemon\")\n",
    "print(\"--------------------\")\n",
    "for row in heaviest:\n",
    "    print(row[0], row[1])\n",
    "\n",
    "print(\"\\nTallest Pokemon\")\n",
    "print(\"--------------------\")\n",
    "for row in tallest:\n",
    "    print(row[0], row[1])"
   ]
  },
  {
   "cell_type": "code",
   "execution_count": null,
   "id": "19281ff6-dbdd-4dd5-ab53-e6b2525db3eb",
   "metadata": {},
   "outputs": [],
   "source": []
  }
 ],
 "metadata": {
  "kernelspec": {
   "display_name": "Python 3 (ipykernel)",
   "language": "python",
   "name": "python3"
  },
  "language_info": {
   "codemirror_mode": {
    "name": "ipython",
    "version": 3
   },
   "file_extension": ".py",
   "mimetype": "text/x-python",
   "name": "python",
   "nbconvert_exporter": "python",
   "pygments_lexer": "ipython3",
   "version": "3.8.3"
  }
 },
 "nbformat": 4,
 "nbformat_minor": 5
}
