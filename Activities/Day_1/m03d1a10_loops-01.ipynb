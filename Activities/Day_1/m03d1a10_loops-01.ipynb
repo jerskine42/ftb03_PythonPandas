{
 "cells": [
  {
   "cell_type": "code",
   "execution_count": 4,
   "id": "d0200ad9-e5c3-4aba-b144-834fd76a555a",
   "metadata": {},
   "outputs": [],
   "source": [
    "# Declare an empty list named `our_list`.\n",
    "our_list = []\n",
    "\n"
   ]
  },
  {
   "cell_type": "code",
   "execution_count": 5,
   "id": "dc043611-a307-4c51-a084-65f0297ca329",
   "metadata": {},
   "outputs": [
    {
     "name": "stdout",
     "output_type": "stream",
     "text": [
      "1\n",
      "hello\n",
      "False\n",
      "84\n",
      "world\n"
     ]
    }
   ],
   "source": [
    "# Use the `append` list function to append the number 1 into `our_list`.\n",
    "our_list.append(1)\n",
    "\n",
    "# Append the string \"hello\" into `our_list`.\n",
    "our_list.append(\"hello\" )\n",
    "\n",
    "# Append the boolean False into `our_list`.\n",
    "our_list.append(False)\n",
    "\n",
    "# Append the number 84 into `our_list`.\n",
    "our_list.append(84)\n",
    "\n",
    "# Append the string \"world\" into `our_list`\n",
    "our_list.append(\"world\")\n",
    "\n",
    "# Print `our_list`\n",
    "for item in our_list:\n",
    "    print(item)"
   ]
  },
  {
   "cell_type": "code",
   "execution_count": 9,
   "id": "6eed5bce-a3c9-4afc-8662-d35206db36ed",
   "metadata": {},
   "outputs": [
    {
     "name": "stdout",
     "output_type": "stream",
     "text": [
      "[1, 2, 3, 4, 5, 6, 7, 8, 9, 10]\n",
      "4\n",
      "7\n"
     ]
    }
   ],
   "source": [
    "# Declare a variable named `one_to_ten` and assign it a list containing the numbers from 1 to 10.\n",
    "one_to_ten = []\n",
    "\n",
    "for item in range(1,11):\n",
    "    one_to_ten.append(item)\n",
    "\n",
    "print(one_to_ten)\n",
    "\n",
    "# Print the 4th element from `one_to_ten`.\n",
    "print(one_to_ten[3])\n",
    "\n",
    "# Print the 7th element from `one_to_ten`.\n",
    "print(one_to_ten[6])"
   ]
  },
  {
   "cell_type": "code",
   "execution_count": 16,
   "id": "87875cdd-87b5-4b76-bdac-fd04df6a4fb7",
   "metadata": {},
   "outputs": [
    {
     "name": "stdout",
     "output_type": "stream",
     "text": [
      "65\n",
      "94\n",
      "299\n",
      "51\n",
      "6\n",
      "680\n",
      "509\n",
      "138\n"
     ]
    }
   ],
   "source": [
    "# We've declared this list for you\n",
    "num_list = [2, 65, 3, 7, 39, 22, 11, 94, 299, 9, 20, 21, 51, 37]\n",
    "\n",
    "# Iterate through the provided `num_list` and create an if-else statement to print every number greater than 50\n",
    "for num in num_list:\n",
    "    if num > 50:\n",
    "        print(num)\n",
    "\n",
    "# Iterate through the provided `num_list` and use the `index` function to print the index of the first occurrence of the number 11.\n",
    "for num in num_list:\n",
    "    if num == 11:\n",
    "        print(num_list.index(11))\n",
    "\n",
    "# Iterate through the provided `num_list` and print the sum of all the numbers.\n",
    "total = 0\n",
    "for num in num_list:\n",
    "    total += num\n",
    "print(total)\n",
    "\n",
    "# Iterate through the provided `num_list` and create an if-else statement to print the sum of all the numbers greater than 50.\n",
    "total = 0\n",
    "for num in num_list:\n",
    "    if num > 50:\n",
    "        total += num\n",
    "print(total)\n",
    "\n",
    "# Iterate through the provided `num_list` and create an if-else statement to print the sum of all the even numbers.\n",
    "total = 0\n",
    "for num in num_list:\n",
    "    if num%2 == 0:\n",
    "        total += num\n",
    "print(total)\n"
   ]
  },
  {
   "cell_type": "code",
   "execution_count": 20,
   "id": "aa69d5f5-8fda-40ee-ad45-7b2270a2a040",
   "metadata": {},
   "outputs": [
    {
     "name": "stdout",
     "output_type": "stream",
     "text": [
      "4\n",
      "2\n",
      "4\n"
     ]
    }
   ],
   "source": [
    "# We've declared this list for you\n",
    "fruits = [\n",
    "  \"Apple\", \"Orange\", \"Banana\", \"Pomelo\", \"Apple\", \"Kiwi\", \"Peach\", \"Banana\", \"Grape\", \"Tomato\",\n",
    "  \"Kiwi\", \"Apple\", \"Watermelon\", \"Lemon\", \"Pomelo\", \"Apple\", \"Banana\", \"Peach\", \"Apricot\", \"Grape\"]\n",
    "\n",
    "# Iterate through the provided `fruits` list and print the number of times \"Apple\" appears in the list.\n",
    "total = 0\n",
    "for fruit in fruits:\n",
    "    if fruit == \"Apple\":\n",
    "        total += 1\n",
    "print(total)\n",
    "\n",
    "# Iterate through the provided `fruits` list and print the number of times \"Peach\" appears in the list.\n",
    "total = 0\n",
    "for fruit in fruits:\n",
    "    if fruit == \"Peach\":\n",
    "        total += 1\n",
    "print(total)\n",
    "\n",
    "# Iterate through the provided `fruits` list and print the number of fruits that start with \"P\" in the list.\n",
    "total = 0\n",
    "for fruit in fruits:\n",
    "    if fruit[0] == \"P\":\n",
    "        total += 1\n",
    "print(total)\n",
    "\n"
   ]
  },
  {
   "cell_type": "code",
   "execution_count": 25,
   "id": "c3519d8a-c066-4819-b1ab-8604c19a9e7f",
   "metadata": {},
   "outputs": [
    {
     "name": "stdout",
     "output_type": "stream",
     "text": [
      "Apple\n",
      "Orange\n",
      "Banana\n",
      "Pomelo\n",
      "Kiwi\n",
      "Peach\n",
      "Grape\n",
      "Tomato\n",
      "Watermelon\n",
      "Lemon\n",
      "Apricot\n",
      "----\n",
      "Apple\n",
      "Orange\n",
      "Banana\n",
      "Pomelo\n",
      "Kiwi\n",
      "Peach\n",
      "Grape\n",
      "Tomato\n",
      "Watermelon\n",
      "Lemon\n",
      "Apricot\n"
     ]
    }
   ],
   "source": [
    "## Challenge\n",
    "# Create a new empty list named `unique_fruits`.\n",
    "unique_fruits = []\n",
    "\n",
    "# Iterate through `fruits` and populate `unique_fruits` with only unique values from `fruits`. \n",
    "\n",
    "for fruit in fruits:\n",
    "    total = 0\n",
    "    for unique_fruit in unique_fruits:\n",
    "        if fruit == unique_fruit:\n",
    "            total += 1\n",
    "    if total == 0:\n",
    "        unique_fruits.append(fruit)\n",
    "\n",
    "# Print out the `unique_fruits` list.\n",
    "for unique_fruit in unique_fruits:\n",
    "    print(unique_fruit)\n",
    "\n",
    "print(\"----\")    \n",
    "    \n",
    "#Hint: try looking up \"not in\" conditionals for if statements\n",
    "for fruit in fruits:\n",
    "    if fruit not in unique_fruits:\n",
    "        unique_fruits.append(fruit)\n",
    "\n",
    "# Print out the `unique_fruits` list.\n",
    "for unique_fruit in unique_fruits:\n",
    "    print(unique_fruit)\n"
   ]
  },
  {
   "cell_type": "code",
   "execution_count": 28,
   "id": "0027d879-9006-4451-9a38-c772de8c5177",
   "metadata": {},
   "outputs": [
    {
     "name": "stdout",
     "output_type": "stream",
     "text": [
      "6\n",
      "7\n",
      "----\n",
      "9\n",
      "6\n",
      "----\n",
      "2\n",
      "12\n",
      "2\n",
      "12\n",
      "----\n",
      "7\n",
      "43\n",
      "9\n",
      "65\n",
      "65\n",
      "1\n",
      "1\n",
      "23\n",
      "55\n",
      "----\n",
      "54\n",
      "6\n",
      "78\n",
      "9\n",
      "6\n",
      "12\n",
      "12\n",
      "12\n"
     ]
    }
   ],
   "source": [
    "# In this challenge we're going to be working with nested lists.\n",
    "# You can store any type of data within an list- even other lists!\n",
    "two_dim_list = [\n",
    "  [54, 6, 7, 46, 78],\n",
    "  [43, 9, 6, 65, 65],\n",
    "  [32, 1, 44, 1, 23],\n",
    "  [55, 12, 2, 34, 2],\n",
    "  [2, 12, 44, 2, 12]]\n",
    "\n",
    "# Iterate through the first list inside `two_dim_list` and print all the numbers less than 25.\n",
    "for num in two_dim_list[0]:\n",
    "    if num < 25:\n",
    "        print(num)\n",
    "print(\"----\")   \n",
    "\n",
    "# Iterate through the second list inside `two_dim_list` and print all the numbers less than 25.\n",
    "for num in two_dim_list[1]:\n",
    "    if num < 25:\n",
    "        print(num)\n",
    "print(\"----\")   \n",
    "\n",
    "# Iterate through the fifth list inside `two_dim_list` and print all the numbers less than 25.\n",
    "for num in two_dim_list[4]:\n",
    "    if num < 25:\n",
    "        print(num)\n",
    "print(\"----\")   \n",
    "\n",
    "# Iterate through `two_dim_list` and the lists inside of it and print all the odd numbers.\n",
    "for num_list in two_dim_list:\n",
    "    for num in num_list:\n",
    "        if num%2 == 1:\n",
    "            print(num)\n",
    "print(\"----\")   \n",
    "\n",
    "# Iterate through `two_dim_list` and the lists inside of it and print the sum of all the numbers that are a multiple of 3.\n",
    "for num_list in two_dim_list:\n",
    "    for num in num_list:\n",
    "        if num%3 == 0:\n",
    "            print(num)\n"
   ]
  },
  {
   "cell_type": "code",
   "execution_count": null,
   "id": "5f57df53-3262-450a-b0ae-eb850508565c",
   "metadata": {},
   "outputs": [],
   "source": []
  }
 ],
 "metadata": {
  "kernelspec": {
   "display_name": "Python 3 (ipykernel)",
   "language": "python",
   "name": "python3"
  },
  "language_info": {
   "codemirror_mode": {
    "name": "ipython",
    "version": 3
   },
   "file_extension": ".py",
   "mimetype": "text/x-python",
   "name": "python",
   "nbconvert_exporter": "python",
   "pygments_lexer": "ipython3",
   "version": "3.8.3"
  }
 },
 "nbformat": 4,
 "nbformat_minor": 5
}
