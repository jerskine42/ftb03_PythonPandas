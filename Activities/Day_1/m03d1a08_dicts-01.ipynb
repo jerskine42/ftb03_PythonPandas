{
 "cells": [
  {
   "cell_type": "code",
   "execution_count": 1,
   "id": "18960f1d-f9ff-454b-a552-07e086b2bab4",
   "metadata": {},
   "outputs": [],
   "source": [
    "# san_francisco = {\n",
    "#     \"west_coast\": True,\n",
    "#     \"has_multiple_bridges\": True,\n",
    "#     \"known_for_pizza\": False,\n",
    "#     \"coastal\": True,\n",
    "#     \"snows\": False,\n",
    "#     \"very_hot\": False,\n",
    "#     \"mayor\": \"London Breed\",\n",
    "#     \"state\": \"California\",\n",
    "#     \"country\": \"USA\",\n",
    "#     \"best_food\": \"burritos\",\n",
    "#     \"sports_teams\": [\"Giants\", \"Warriors\", \"Forty-Niners\"],\n",
    "#     \"tallest_building\": \"SalesForce Building\",\n",
    "#     \"population\": 884363,\n",
    "#     \"city_size\": \"large\",\n",
    "#     \"median_house_price\": 1610000,\n",
    "#     \"famous_residents\": [\"Maya Angelou\", \"Robert Frost\", \"Carlos Santana\"],\n",
    "#     \"homeless_pop\": 1150,\n",
    "#     \"political_leaning\": \"Democrat\",\n",
    "#     \"notable_attractions\": [\"Alcatraz\", \"Golden Gate Bridge\", \"Fisherman's Wharf\"],\n",
    "#     \"natural_disasters\": [\"Earthquakes\"],\n",
    "# }\n",
    "\n",
    "# Re-create the content of the commented out `san_francisco` dictionary by using bracket notation to manually add each of the key-value pairs (including nested objects).\n",
    "\n",
    "# Print the manually modified `san_francisco` dictionary and confirm the contents match the commented out version.\n"
   ]
  },
  {
   "cell_type": "code",
   "execution_count": 7,
   "id": "47296fbe-5617-4e46-a1f3-ad4ba3e18584",
   "metadata": {},
   "outputs": [],
   "source": [
    "san_francisco = {\n",
    "     \"west_coast\": True,\n",
    "     \"has_multiple_bridges\": True,\n",
    "     \"known_for_pizza\": False,\n",
    "     \"coastal\": True,\n",
    "     \"snows\": False,\n",
    "     \"very_hot\": False,\n",
    "     \"mayor\": \"London Breed\",\n",
    "     \"state\": \"California\",\n",
    "     \"country\": \"USA\",\n",
    "     \"best_food\": \"burritos\",\n",
    "     \"sports_teams\": [\"Giants\", \"Warriors\", \"Forty-Niners\"],\n",
    "     \"tallest_building\": \"SalesForce Building\",\n",
    "     \"population\": 884363,\n",
    "     \"city_size\": \"large\",\n",
    "     \"median_house_price\": 1610000,\n",
    "     \"famous_residents\": [\"Maya Angelou\", \"Robert Frost\", \"Carlos Santana\"],\n",
    "     \"homeless_pop\": 1150,\n",
    "     \"political_leaning\": \"Democrat\",\n",
    "     \"notable_attractions\": [\"Alcatraz\", \"Golden Gate Bridge\", \"Fisherman's Wharf\"],\n",
    "     \"natural_disasters\": [\"Earthquakes\"],\n",
    "}"
   ]
  },
  {
   "cell_type": "code",
   "execution_count": 24,
   "id": "a38bf611-5a6e-4cd4-aa7e-fb31ba3ad4e8",
   "metadata": {},
   "outputs": [],
   "source": [
    "# Re-create the content of the commented out `san_francisco` dictionary by using bracket notation to manually \n",
    "# add each of the key-value pairs (including nested objects).\n",
    "san_francisco2 = {}\n",
    "san_francisco2[\"west_coast\"] =  True\n",
    "san_francisco2[\"has_multiple_bridges\"] =  True\n",
    "san_francisco2[\"known_for_pizza\"] =  False\n",
    "san_francisco2[\"coastal\"] = True\n",
    "san_francisco2[\"snows\"] =  False\n",
    "san_francisco2[\"very_hot\"] =  False\n",
    "san_francisco2[\"mayor\"] =  \"London Breed\"\n",
    "san_francisco2[\"state\"] =  \"California\"\n",
    "san_francisco2[\"country\"] =  \"USA\"\n",
    "san_francisco2[\"best_food\"] =  \"burritos\"\n",
    "san_francisco2[\"sports_teams\"] =  [\"Giants\", \"Warriors\", \"Forty-Niners\"]\n",
    "san_francisco2[\"tallest_building\"] =  \"SalesForce Building\"\n",
    "san_francisco2[\"population\"] =  884363\n",
    "san_francisco2[\"city_size\"] =  \"large\"\n",
    "san_francisco2[\"median_house_price\"] =  1610000\n",
    "san_francisco2[\"famous_residents\"] =  [\"Maya Angelou\", \"Robert Frost\", \"Carlos Santana\"]\n",
    "san_francisco2[\"homeless_pop\"] =  1150\n",
    "san_francisco2[\"political_leaning\"] =  \"Democrat\"\n",
    "san_francisco2[\"notable_attractions\"] =  [\"Alcatraz\", \"Golden Gate Bridge\", \"Fisherman's Wharf\"]\n",
    "san_francisco2[\"natural_disasters\"] =  [\"Earthquakes\"]\n"
   ]
  },
  {
   "cell_type": "code",
   "execution_count": 25,
   "id": "f772359d-439f-4ebf-b87e-9e97f8e49ac4",
   "metadata": {},
   "outputs": [
    {
     "name": "stdout",
     "output_type": "stream",
     "text": [
      "('west_coast', True)\n",
      "('has_multiple_bridges', True)\n",
      "('known_for_pizza', False)\n",
      "('coastal', True)\n",
      "('snows', False)\n",
      "('very_hot', False)\n",
      "('mayor', 'London Breed')\n",
      "('state', 'California')\n",
      "('country', 'USA')\n",
      "('best_food', 'burritos')\n",
      "('sports_teams', ['Giants', 'Warriors', 'Forty-Niners'])\n",
      "('tallest_building', 'SalesForce Building')\n",
      "('population', 884363)\n",
      "('city_size', 'large')\n",
      "('median_house_price', 1610000)\n",
      "('famous_residents', ['Maya Angelou', 'Robert Frost', 'Carlos Santana'])\n",
      "('homeless_pop', 1150)\n",
      "('political_leaning', 'Democrat')\n",
      "('notable_attractions', ['Alcatraz', 'Golden Gate Bridge', \"Fisherman's Wharf\"])\n",
      "('natural_disasters', ['Earthquakes'])\n"
     ]
    }
   ],
   "source": [
    "# Print the manually modified `san_francisco` dictionary and confirm the contents match the commented out version.\n",
    "for index in san_francisco2.items():\n",
    "    print(index)"
   ]
  },
  {
   "cell_type": "code",
   "execution_count": 26,
   "id": "a8614dd9-a75c-4b1d-bf0e-90ea1859c9d3",
   "metadata": {},
   "outputs": [
    {
     "name": "stdout",
     "output_type": "stream",
     "text": [
      "west_coast\n",
      "has_multiple_bridges\n",
      "known_for_pizza\n",
      "coastal\n",
      "snows\n",
      "very_hot\n",
      "mayor\n",
      "state\n",
      "country\n",
      "best_food\n",
      "sports_teams\n",
      "tallest_building\n",
      "population\n",
      "city_size\n",
      "median_house_price\n",
      "famous_residents\n",
      "homeless_pop\n",
      "political_leaning\n",
      "notable_attractions\n",
      "natural_disasters\n"
     ]
    }
   ],
   "source": [
    "for index in san_francisco2.keys():\n",
    "    print(index)"
   ]
  },
  {
   "cell_type": "code",
   "execution_count": 27,
   "id": "192bd11c-db7d-4b2c-adcf-830ac881895e",
   "metadata": {},
   "outputs": [
    {
     "name": "stdout",
     "output_type": "stream",
     "text": [
      "True\n",
      "True\n",
      "False\n",
      "True\n",
      "False\n",
      "False\n",
      "London Breed\n",
      "California\n",
      "USA\n",
      "burritos\n",
      "['Giants', 'Warriors', 'Forty-Niners']\n",
      "SalesForce Building\n",
      "884363\n",
      "large\n",
      "1610000\n",
      "['Maya Angelou', 'Robert Frost', 'Carlos Santana']\n",
      "1150\n",
      "Democrat\n",
      "['Alcatraz', 'Golden Gate Bridge', \"Fisherman's Wharf\"]\n",
      "['Earthquakes']\n"
     ]
    }
   ],
   "source": [
    "for index in san_francisco2.values():\n",
    "    print(index)"
   ]
  },
  {
   "cell_type": "code",
   "execution_count": null,
   "id": "59dff9cf-bb51-4789-8ae2-b39ac1d64481",
   "metadata": {},
   "outputs": [],
   "source": []
  }
 ],
 "metadata": {
  "kernelspec": {
   "display_name": "Python 3 (ipykernel)",
   "language": "python",
   "name": "python3"
  },
  "language_info": {
   "codemirror_mode": {
    "name": "ipython",
    "version": 3
   },
   "file_extension": ".py",
   "mimetype": "text/x-python",
   "name": "python",
   "nbconvert_exporter": "python",
   "pygments_lexer": "ipython3",
   "version": "3.8.3"
  }
 },
 "nbformat": 4,
 "nbformat_minor": 5
}
